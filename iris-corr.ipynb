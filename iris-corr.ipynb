{
 "cells": [
  {
   "cell_type": "code",
   "execution_count": 1,
   "id": "2da89503",
   "metadata": {
    "execution": {
     "iopub.execute_input": "2021-11-15T14:25:52.362608Z",
     "iopub.status.busy": "2021-11-15T14:25:52.361455Z",
     "iopub.status.idle": "2021-11-15T14:25:53.810746Z",
     "shell.execute_reply": "2021-11-15T14:25:53.809883Z",
     "shell.execute_reply.started": "2021-11-15T14:25:00.593659Z"
    },
    "papermill": {
     "duration": 1.510138,
     "end_time": "2021-11-15T14:25:53.810973",
     "exception": false,
     "start_time": "2021-11-15T14:25:52.300835",
     "status": "completed"
    },
    "tags": []
   },
   "outputs": [],
   "source": [
    "import pandas as pd\n",
    "import numpy as np\n",
    "import matplotlib.pyplot as plt\n",
    "import seaborn as sns\n",
    "from sklearn.preprocessing import LabelEncoder\n",
    "from sklearn.preprocessing import StandardScaler\n",
    "from sklearn.model_selection import train_test_split\n",
    "import warnings\n",
    "warnings.filterwarnings(\"ignore\")\n",
    "from sklearn.naive_bayes import GaussianNB\n",
    "from sklearn.metrics import accuracy_score \n",
    "from sklearn.ensemble import RandomForestClassifier\n",
    "from sklearn import tree\n",
    "from sklearn.tree import DecisionTreeClassifier"
   ]
  },
  {
   "cell_type": "code",
   "execution_count": 2,
   "id": "2fddcf85",
   "metadata": {
    "execution": {
     "iopub.execute_input": "2021-11-15T14:25:53.932155Z",
     "iopub.status.busy": "2021-11-15T14:25:53.931357Z",
     "iopub.status.idle": "2021-11-15T14:25:53.948214Z",
     "shell.execute_reply": "2021-11-15T14:25:53.948811Z",
     "shell.execute_reply.started": "2021-11-15T14:25:01.907889Z"
    },
    "papermill": {
     "duration": 0.080902,
     "end_time": "2021-11-15T14:25:53.949057",
     "exception": false,
     "start_time": "2021-11-15T14:25:53.868155",
     "status": "completed"
    },
    "tags": []
   },
   "outputs": [],
   "source": [
    "data=pd.read_csv('../input/iris/Iris.csv')"
   ]
  },
  {
   "cell_type": "code",
   "execution_count": 3,
   "id": "32de692d",
   "metadata": {
    "execution": {
     "iopub.execute_input": "2021-11-15T14:25:54.065987Z",
     "iopub.status.busy": "2021-11-15T14:25:54.065276Z",
     "iopub.status.idle": "2021-11-15T14:25:54.094113Z",
     "shell.execute_reply": "2021-11-15T14:25:54.094627Z",
     "shell.execute_reply.started": "2021-11-15T14:25:01.928081Z"
    },
    "papermill": {
     "duration": 0.088926,
     "end_time": "2021-11-15T14:25:54.094832",
     "exception": false,
     "start_time": "2021-11-15T14:25:54.005906",
     "status": "completed"
    },
    "tags": []
   },
   "outputs": [
    {
     "data": {
      "text/html": [
       "<div>\n",
       "<style scoped>\n",
       "    .dataframe tbody tr th:only-of-type {\n",
       "        vertical-align: middle;\n",
       "    }\n",
       "\n",
       "    .dataframe tbody tr th {\n",
       "        vertical-align: top;\n",
       "    }\n",
       "\n",
       "    .dataframe thead th {\n",
       "        text-align: right;\n",
       "    }\n",
       "</style>\n",
       "<table border=\"1\" class=\"dataframe\">\n",
       "  <thead>\n",
       "    <tr style=\"text-align: right;\">\n",
       "      <th></th>\n",
       "      <th>Id</th>\n",
       "      <th>SepalLengthCm</th>\n",
       "      <th>SepalWidthCm</th>\n",
       "      <th>PetalLengthCm</th>\n",
       "      <th>PetalWidthCm</th>\n",
       "      <th>Species</th>\n",
       "    </tr>\n",
       "  </thead>\n",
       "  <tbody>\n",
       "    <tr>\n",
       "      <th>0</th>\n",
       "      <td>1</td>\n",
       "      <td>5.1</td>\n",
       "      <td>3.5</td>\n",
       "      <td>1.4</td>\n",
       "      <td>0.2</td>\n",
       "      <td>Iris-setosa</td>\n",
       "    </tr>\n",
       "    <tr>\n",
       "      <th>1</th>\n",
       "      <td>2</td>\n",
       "      <td>4.9</td>\n",
       "      <td>3.0</td>\n",
       "      <td>1.4</td>\n",
       "      <td>0.2</td>\n",
       "      <td>Iris-setosa</td>\n",
       "    </tr>\n",
       "    <tr>\n",
       "      <th>2</th>\n",
       "      <td>3</td>\n",
       "      <td>4.7</td>\n",
       "      <td>3.2</td>\n",
       "      <td>1.3</td>\n",
       "      <td>0.2</td>\n",
       "      <td>Iris-setosa</td>\n",
       "    </tr>\n",
       "    <tr>\n",
       "      <th>3</th>\n",
       "      <td>4</td>\n",
       "      <td>4.6</td>\n",
       "      <td>3.1</td>\n",
       "      <td>1.5</td>\n",
       "      <td>0.2</td>\n",
       "      <td>Iris-setosa</td>\n",
       "    </tr>\n",
       "    <tr>\n",
       "      <th>4</th>\n",
       "      <td>5</td>\n",
       "      <td>5.0</td>\n",
       "      <td>3.6</td>\n",
       "      <td>1.4</td>\n",
       "      <td>0.2</td>\n",
       "      <td>Iris-setosa</td>\n",
       "    </tr>\n",
       "    <tr>\n",
       "      <th>5</th>\n",
       "      <td>6</td>\n",
       "      <td>5.4</td>\n",
       "      <td>3.9</td>\n",
       "      <td>1.7</td>\n",
       "      <td>0.4</td>\n",
       "      <td>Iris-setosa</td>\n",
       "    </tr>\n",
       "    <tr>\n",
       "      <th>6</th>\n",
       "      <td>7</td>\n",
       "      <td>4.6</td>\n",
       "      <td>3.4</td>\n",
       "      <td>1.4</td>\n",
       "      <td>0.3</td>\n",
       "      <td>Iris-setosa</td>\n",
       "    </tr>\n",
       "    <tr>\n",
       "      <th>7</th>\n",
       "      <td>8</td>\n",
       "      <td>5.0</td>\n",
       "      <td>3.4</td>\n",
       "      <td>1.5</td>\n",
       "      <td>0.2</td>\n",
       "      <td>Iris-setosa</td>\n",
       "    </tr>\n",
       "    <tr>\n",
       "      <th>8</th>\n",
       "      <td>9</td>\n",
       "      <td>4.4</td>\n",
       "      <td>2.9</td>\n",
       "      <td>1.4</td>\n",
       "      <td>0.2</td>\n",
       "      <td>Iris-setosa</td>\n",
       "    </tr>\n",
       "    <tr>\n",
       "      <th>9</th>\n",
       "      <td>10</td>\n",
       "      <td>4.9</td>\n",
       "      <td>3.1</td>\n",
       "      <td>1.5</td>\n",
       "      <td>0.1</td>\n",
       "      <td>Iris-setosa</td>\n",
       "    </tr>\n",
       "  </tbody>\n",
       "</table>\n",
       "</div>"
      ],
      "text/plain": [
       "   Id  SepalLengthCm  SepalWidthCm  PetalLengthCm  PetalWidthCm      Species\n",
       "0   1            5.1           3.5            1.4           0.2  Iris-setosa\n",
       "1   2            4.9           3.0            1.4           0.2  Iris-setosa\n",
       "2   3            4.7           3.2            1.3           0.2  Iris-setosa\n",
       "3   4            4.6           3.1            1.5           0.2  Iris-setosa\n",
       "4   5            5.0           3.6            1.4           0.2  Iris-setosa\n",
       "5   6            5.4           3.9            1.7           0.4  Iris-setosa\n",
       "6   7            4.6           3.4            1.4           0.3  Iris-setosa\n",
       "7   8            5.0           3.4            1.5           0.2  Iris-setosa\n",
       "8   9            4.4           2.9            1.4           0.2  Iris-setosa\n",
       "9  10            4.9           3.1            1.5           0.1  Iris-setosa"
      ]
     },
     "execution_count": 3,
     "metadata": {},
     "output_type": "execute_result"
    }
   ],
   "source": [
    "data.head(10)"
   ]
  },
  {
   "cell_type": "code",
   "execution_count": 4,
   "id": "a2dc8664",
   "metadata": {
    "execution": {
     "iopub.execute_input": "2021-11-15T14:25:54.213254Z",
     "iopub.status.busy": "2021-11-15T14:25:54.212576Z",
     "iopub.status.idle": "2021-11-15T14:25:54.217783Z",
     "shell.execute_reply": "2021-11-15T14:25:54.218294Z",
     "shell.execute_reply.started": "2021-11-15T14:25:01.957823Z"
    },
    "papermill": {
     "duration": 0.066199,
     "end_time": "2021-11-15T14:25:54.218487",
     "exception": false,
     "start_time": "2021-11-15T14:25:54.152288",
     "status": "completed"
    },
    "tags": []
   },
   "outputs": [
    {
     "data": {
      "text/plain": [
       "(150, 6)"
      ]
     },
     "execution_count": 4,
     "metadata": {},
     "output_type": "execute_result"
    }
   ],
   "source": [
    "data.shape"
   ]
  },
  {
   "cell_type": "code",
   "execution_count": 5,
   "id": "b7840354",
   "metadata": {
    "execution": {
     "iopub.execute_input": "2021-11-15T14:25:54.337053Z",
     "iopub.status.busy": "2021-11-15T14:25:54.336047Z",
     "iopub.status.idle": "2021-11-15T14:25:54.349301Z",
     "shell.execute_reply": "2021-11-15T14:25:54.349889Z",
     "shell.execute_reply.started": "2021-11-15T14:25:01.967002Z"
    },
    "papermill": {
     "duration": 0.074459,
     "end_time": "2021-11-15T14:25:54.350092",
     "exception": false,
     "start_time": "2021-11-15T14:25:54.275633",
     "status": "completed"
    },
    "tags": []
   },
   "outputs": [
    {
     "data": {
      "text/plain": [
       "Iris-setosa        50\n",
       "Iris-versicolor    50\n",
       "Iris-virginica     50\n",
       "Name: Species, dtype: int64"
      ]
     },
     "execution_count": 5,
     "metadata": {},
     "output_type": "execute_result"
    }
   ],
   "source": [
    "data[\"Species\"].value_counts()"
   ]
  },
  {
   "cell_type": "code",
   "execution_count": 6,
   "id": "47415769",
   "metadata": {
    "execution": {
     "iopub.execute_input": "2021-11-15T14:25:54.555477Z",
     "iopub.status.busy": "2021-11-15T14:25:54.554523Z",
     "iopub.status.idle": "2021-11-15T14:25:54.562609Z",
     "shell.execute_reply": "2021-11-15T14:25:54.563200Z",
     "shell.execute_reply.started": "2021-11-15T14:25:01.989308Z"
    },
    "papermill": {
     "duration": 0.155364,
     "end_time": "2021-11-15T14:25:54.563378",
     "exception": false,
     "start_time": "2021-11-15T14:25:54.408014",
     "status": "completed"
    },
    "tags": []
   },
   "outputs": [],
   "source": [
    "data = data.drop('Id', 1)"
   ]
  },
  {
   "cell_type": "code",
   "execution_count": 7,
   "id": "758859d5",
   "metadata": {
    "execution": {
     "iopub.execute_input": "2021-11-15T14:25:54.684737Z",
     "iopub.status.busy": "2021-11-15T14:25:54.683791Z",
     "iopub.status.idle": "2021-11-15T14:25:54.698293Z",
     "shell.execute_reply": "2021-11-15T14:25:54.699053Z",
     "shell.execute_reply.started": "2021-11-15T14:25:01.999814Z"
    },
    "papermill": {
     "duration": 0.076397,
     "end_time": "2021-11-15T14:25:54.699284",
     "exception": false,
     "start_time": "2021-11-15T14:25:54.622887",
     "status": "completed"
    },
    "tags": []
   },
   "outputs": [
    {
     "data": {
      "text/html": [
       "<div>\n",
       "<style scoped>\n",
       "    .dataframe tbody tr th:only-of-type {\n",
       "        vertical-align: middle;\n",
       "    }\n",
       "\n",
       "    .dataframe tbody tr th {\n",
       "        vertical-align: top;\n",
       "    }\n",
       "\n",
       "    .dataframe thead th {\n",
       "        text-align: right;\n",
       "    }\n",
       "</style>\n",
       "<table border=\"1\" class=\"dataframe\">\n",
       "  <thead>\n",
       "    <tr style=\"text-align: right;\">\n",
       "      <th></th>\n",
       "      <th>SepalLengthCm</th>\n",
       "      <th>SepalWidthCm</th>\n",
       "      <th>PetalLengthCm</th>\n",
       "      <th>PetalWidthCm</th>\n",
       "      <th>Species</th>\n",
       "    </tr>\n",
       "  </thead>\n",
       "  <tbody>\n",
       "    <tr>\n",
       "      <th>0</th>\n",
       "      <td>5.1</td>\n",
       "      <td>3.5</td>\n",
       "      <td>1.4</td>\n",
       "      <td>0.2</td>\n",
       "      <td>Iris-setosa</td>\n",
       "    </tr>\n",
       "    <tr>\n",
       "      <th>1</th>\n",
       "      <td>4.9</td>\n",
       "      <td>3.0</td>\n",
       "      <td>1.4</td>\n",
       "      <td>0.2</td>\n",
       "      <td>Iris-setosa</td>\n",
       "    </tr>\n",
       "    <tr>\n",
       "      <th>2</th>\n",
       "      <td>4.7</td>\n",
       "      <td>3.2</td>\n",
       "      <td>1.3</td>\n",
       "      <td>0.2</td>\n",
       "      <td>Iris-setosa</td>\n",
       "    </tr>\n",
       "    <tr>\n",
       "      <th>3</th>\n",
       "      <td>4.6</td>\n",
       "      <td>3.1</td>\n",
       "      <td>1.5</td>\n",
       "      <td>0.2</td>\n",
       "      <td>Iris-setosa</td>\n",
       "    </tr>\n",
       "    <tr>\n",
       "      <th>4</th>\n",
       "      <td>5.0</td>\n",
       "      <td>3.6</td>\n",
       "      <td>1.4</td>\n",
       "      <td>0.2</td>\n",
       "      <td>Iris-setosa</td>\n",
       "    </tr>\n",
       "    <tr>\n",
       "      <th>5</th>\n",
       "      <td>5.4</td>\n",
       "      <td>3.9</td>\n",
       "      <td>1.7</td>\n",
       "      <td>0.4</td>\n",
       "      <td>Iris-setosa</td>\n",
       "    </tr>\n",
       "    <tr>\n",
       "      <th>6</th>\n",
       "      <td>4.6</td>\n",
       "      <td>3.4</td>\n",
       "      <td>1.4</td>\n",
       "      <td>0.3</td>\n",
       "      <td>Iris-setosa</td>\n",
       "    </tr>\n",
       "    <tr>\n",
       "      <th>7</th>\n",
       "      <td>5.0</td>\n",
       "      <td>3.4</td>\n",
       "      <td>1.5</td>\n",
       "      <td>0.2</td>\n",
       "      <td>Iris-setosa</td>\n",
       "    </tr>\n",
       "    <tr>\n",
       "      <th>8</th>\n",
       "      <td>4.4</td>\n",
       "      <td>2.9</td>\n",
       "      <td>1.4</td>\n",
       "      <td>0.2</td>\n",
       "      <td>Iris-setosa</td>\n",
       "    </tr>\n",
       "    <tr>\n",
       "      <th>9</th>\n",
       "      <td>4.9</td>\n",
       "      <td>3.1</td>\n",
       "      <td>1.5</td>\n",
       "      <td>0.1</td>\n",
       "      <td>Iris-setosa</td>\n",
       "    </tr>\n",
       "  </tbody>\n",
       "</table>\n",
       "</div>"
      ],
      "text/plain": [
       "   SepalLengthCm  SepalWidthCm  PetalLengthCm  PetalWidthCm      Species\n",
       "0            5.1           3.5            1.4           0.2  Iris-setosa\n",
       "1            4.9           3.0            1.4           0.2  Iris-setosa\n",
       "2            4.7           3.2            1.3           0.2  Iris-setosa\n",
       "3            4.6           3.1            1.5           0.2  Iris-setosa\n",
       "4            5.0           3.6            1.4           0.2  Iris-setosa\n",
       "5            5.4           3.9            1.7           0.4  Iris-setosa\n",
       "6            4.6           3.4            1.4           0.3  Iris-setosa\n",
       "7            5.0           3.4            1.5           0.2  Iris-setosa\n",
       "8            4.4           2.9            1.4           0.2  Iris-setosa\n",
       "9            4.9           3.1            1.5           0.1  Iris-setosa"
      ]
     },
     "execution_count": 7,
     "metadata": {},
     "output_type": "execute_result"
    }
   ],
   "source": [
    "data.head(10)"
   ]
  },
  {
   "cell_type": "code",
   "execution_count": 8,
   "id": "3355ca43",
   "metadata": {
    "execution": {
     "iopub.execute_input": "2021-11-15T14:25:54.819612Z",
     "iopub.status.busy": "2021-11-15T14:25:54.818643Z",
     "iopub.status.idle": "2021-11-15T14:25:54.821585Z",
     "shell.execute_reply": "2021-11-15T14:25:54.822098Z",
     "shell.execute_reply.started": "2021-11-15T14:25:02.027727Z"
    },
    "papermill": {
     "duration": 0.064219,
     "end_time": "2021-11-15T14:25:54.822275",
     "exception": false,
     "start_time": "2021-11-15T14:25:54.758056",
     "status": "completed"
    },
    "tags": []
   },
   "outputs": [],
   "source": [
    "#data.plot(kind=\"scatter\", x=\"SepalLengthCm\", y=\"SepalWidthCm\")"
   ]
  },
  {
   "cell_type": "code",
   "execution_count": 9,
   "id": "c894f66a",
   "metadata": {
    "execution": {
     "iopub.execute_input": "2021-11-15T14:25:54.942589Z",
     "iopub.status.busy": "2021-11-15T14:25:54.941582Z",
     "iopub.status.idle": "2021-11-15T14:25:54.944629Z",
     "shell.execute_reply": "2021-11-15T14:25:54.945145Z",
     "shell.execute_reply.started": "2021-11-15T14:25:02.036775Z"
    },
    "papermill": {
     "duration": 0.065618,
     "end_time": "2021-11-15T14:25:54.945313",
     "exception": false,
     "start_time": "2021-11-15T14:25:54.879695",
     "status": "completed"
    },
    "tags": []
   },
   "outputs": [],
   "source": [
    "#sns.FacetGrid(data, hue=\"Species\", size=5) \\\n",
    "#   .map(plt.scatter, \"SepalLengthCm\", \"SepalWidthCm\") \\\n",
    "#   .add_legend()"
   ]
  },
  {
   "cell_type": "code",
   "execution_count": 10,
   "id": "c6dc3489",
   "metadata": {
    "execution": {
     "iopub.execute_input": "2021-11-15T14:25:55.066658Z",
     "iopub.status.busy": "2021-11-15T14:25:55.065699Z",
     "iopub.status.idle": "2021-11-15T14:25:55.068536Z",
     "shell.execute_reply": "2021-11-15T14:25:55.068028Z",
     "shell.execute_reply.started": "2021-11-15T14:25:02.047817Z"
    },
    "papermill": {
     "duration": 0.065076,
     "end_time": "2021-11-15T14:25:55.068672",
     "exception": false,
     "start_time": "2021-11-15T14:25:55.003596",
     "status": "completed"
    },
    "tags": []
   },
   "outputs": [],
   "source": [
    "#data=pd.get_dummies(data, columns=[\"Species\"], prefix=[\"Species\"])"
   ]
  },
  {
   "cell_type": "code",
   "execution_count": 11,
   "id": "b824c996",
   "metadata": {
    "execution": {
     "iopub.execute_input": "2021-11-15T14:25:55.187795Z",
     "iopub.status.busy": "2021-11-15T14:25:55.186749Z",
     "iopub.status.idle": "2021-11-15T14:25:55.202124Z",
     "shell.execute_reply": "2021-11-15T14:25:55.201583Z",
     "shell.execute_reply.started": "2021-11-15T14:25:02.058826Z"
    },
    "papermill": {
     "duration": 0.075659,
     "end_time": "2021-11-15T14:25:55.202270",
     "exception": false,
     "start_time": "2021-11-15T14:25:55.126611",
     "status": "completed"
    },
    "tags": []
   },
   "outputs": [
    {
     "data": {
      "text/html": [
       "<div>\n",
       "<style scoped>\n",
       "    .dataframe tbody tr th:only-of-type {\n",
       "        vertical-align: middle;\n",
       "    }\n",
       "\n",
       "    .dataframe tbody tr th {\n",
       "        vertical-align: top;\n",
       "    }\n",
       "\n",
       "    .dataframe thead th {\n",
       "        text-align: right;\n",
       "    }\n",
       "</style>\n",
       "<table border=\"1\" class=\"dataframe\">\n",
       "  <thead>\n",
       "    <tr style=\"text-align: right;\">\n",
       "      <th></th>\n",
       "      <th>SepalLengthCm</th>\n",
       "      <th>SepalWidthCm</th>\n",
       "      <th>PetalLengthCm</th>\n",
       "      <th>PetalWidthCm</th>\n",
       "      <th>Species</th>\n",
       "    </tr>\n",
       "  </thead>\n",
       "  <tbody>\n",
       "    <tr>\n",
       "      <th>0</th>\n",
       "      <td>5.1</td>\n",
       "      <td>3.5</td>\n",
       "      <td>1.4</td>\n",
       "      <td>0.2</td>\n",
       "      <td>Iris-setosa</td>\n",
       "    </tr>\n",
       "    <tr>\n",
       "      <th>1</th>\n",
       "      <td>4.9</td>\n",
       "      <td>3.0</td>\n",
       "      <td>1.4</td>\n",
       "      <td>0.2</td>\n",
       "      <td>Iris-setosa</td>\n",
       "    </tr>\n",
       "    <tr>\n",
       "      <th>2</th>\n",
       "      <td>4.7</td>\n",
       "      <td>3.2</td>\n",
       "      <td>1.3</td>\n",
       "      <td>0.2</td>\n",
       "      <td>Iris-setosa</td>\n",
       "    </tr>\n",
       "    <tr>\n",
       "      <th>3</th>\n",
       "      <td>4.6</td>\n",
       "      <td>3.1</td>\n",
       "      <td>1.5</td>\n",
       "      <td>0.2</td>\n",
       "      <td>Iris-setosa</td>\n",
       "    </tr>\n",
       "    <tr>\n",
       "      <th>4</th>\n",
       "      <td>5.0</td>\n",
       "      <td>3.6</td>\n",
       "      <td>1.4</td>\n",
       "      <td>0.2</td>\n",
       "      <td>Iris-setosa</td>\n",
       "    </tr>\n",
       "    <tr>\n",
       "      <th>5</th>\n",
       "      <td>5.4</td>\n",
       "      <td>3.9</td>\n",
       "      <td>1.7</td>\n",
       "      <td>0.4</td>\n",
       "      <td>Iris-setosa</td>\n",
       "    </tr>\n",
       "    <tr>\n",
       "      <th>6</th>\n",
       "      <td>4.6</td>\n",
       "      <td>3.4</td>\n",
       "      <td>1.4</td>\n",
       "      <td>0.3</td>\n",
       "      <td>Iris-setosa</td>\n",
       "    </tr>\n",
       "    <tr>\n",
       "      <th>7</th>\n",
       "      <td>5.0</td>\n",
       "      <td>3.4</td>\n",
       "      <td>1.5</td>\n",
       "      <td>0.2</td>\n",
       "      <td>Iris-setosa</td>\n",
       "    </tr>\n",
       "    <tr>\n",
       "      <th>8</th>\n",
       "      <td>4.4</td>\n",
       "      <td>2.9</td>\n",
       "      <td>1.4</td>\n",
       "      <td>0.2</td>\n",
       "      <td>Iris-setosa</td>\n",
       "    </tr>\n",
       "    <tr>\n",
       "      <th>9</th>\n",
       "      <td>4.9</td>\n",
       "      <td>3.1</td>\n",
       "      <td>1.5</td>\n",
       "      <td>0.1</td>\n",
       "      <td>Iris-setosa</td>\n",
       "    </tr>\n",
       "  </tbody>\n",
       "</table>\n",
       "</div>"
      ],
      "text/plain": [
       "   SepalLengthCm  SepalWidthCm  PetalLengthCm  PetalWidthCm      Species\n",
       "0            5.1           3.5            1.4           0.2  Iris-setosa\n",
       "1            4.9           3.0            1.4           0.2  Iris-setosa\n",
       "2            4.7           3.2            1.3           0.2  Iris-setosa\n",
       "3            4.6           3.1            1.5           0.2  Iris-setosa\n",
       "4            5.0           3.6            1.4           0.2  Iris-setosa\n",
       "5            5.4           3.9            1.7           0.4  Iris-setosa\n",
       "6            4.6           3.4            1.4           0.3  Iris-setosa\n",
       "7            5.0           3.4            1.5           0.2  Iris-setosa\n",
       "8            4.4           2.9            1.4           0.2  Iris-setosa\n",
       "9            4.9           3.1            1.5           0.1  Iris-setosa"
      ]
     },
     "execution_count": 11,
     "metadata": {},
     "output_type": "execute_result"
    }
   ],
   "source": [
    "data.head(10)"
   ]
  },
  {
   "cell_type": "code",
   "execution_count": 12,
   "id": "9bbc3171",
   "metadata": {
    "execution": {
     "iopub.execute_input": "2021-11-15T14:25:55.322205Z",
     "iopub.status.busy": "2021-11-15T14:25:55.321580Z",
     "iopub.status.idle": "2021-11-15T14:25:55.333681Z",
     "shell.execute_reply": "2021-11-15T14:25:55.334250Z",
     "shell.execute_reply.started": "2021-11-15T14:25:02.082290Z"
    },
    "papermill": {
     "duration": 0.073917,
     "end_time": "2021-11-15T14:25:55.334414",
     "exception": false,
     "start_time": "2021-11-15T14:25:55.260497",
     "status": "completed"
    },
    "tags": []
   },
   "outputs": [
    {
     "data": {
      "text/html": [
       "<div>\n",
       "<style scoped>\n",
       "    .dataframe tbody tr th:only-of-type {\n",
       "        vertical-align: middle;\n",
       "    }\n",
       "\n",
       "    .dataframe tbody tr th {\n",
       "        vertical-align: top;\n",
       "    }\n",
       "\n",
       "    .dataframe thead th {\n",
       "        text-align: right;\n",
       "    }\n",
       "</style>\n",
       "<table border=\"1\" class=\"dataframe\">\n",
       "  <thead>\n",
       "    <tr style=\"text-align: right;\">\n",
       "      <th></th>\n",
       "      <th>SepalLengthCm</th>\n",
       "      <th>SepalWidthCm</th>\n",
       "      <th>PetalLengthCm</th>\n",
       "      <th>PetalWidthCm</th>\n",
       "      <th>Species</th>\n",
       "    </tr>\n",
       "  </thead>\n",
       "  <tbody>\n",
       "    <tr>\n",
       "      <th>145</th>\n",
       "      <td>6.7</td>\n",
       "      <td>3.0</td>\n",
       "      <td>5.2</td>\n",
       "      <td>2.3</td>\n",
       "      <td>Iris-virginica</td>\n",
       "    </tr>\n",
       "    <tr>\n",
       "      <th>146</th>\n",
       "      <td>6.3</td>\n",
       "      <td>2.5</td>\n",
       "      <td>5.0</td>\n",
       "      <td>1.9</td>\n",
       "      <td>Iris-virginica</td>\n",
       "    </tr>\n",
       "    <tr>\n",
       "      <th>147</th>\n",
       "      <td>6.5</td>\n",
       "      <td>3.0</td>\n",
       "      <td>5.2</td>\n",
       "      <td>2.0</td>\n",
       "      <td>Iris-virginica</td>\n",
       "    </tr>\n",
       "    <tr>\n",
       "      <th>148</th>\n",
       "      <td>6.2</td>\n",
       "      <td>3.4</td>\n",
       "      <td>5.4</td>\n",
       "      <td>2.3</td>\n",
       "      <td>Iris-virginica</td>\n",
       "    </tr>\n",
       "    <tr>\n",
       "      <th>149</th>\n",
       "      <td>5.9</td>\n",
       "      <td>3.0</td>\n",
       "      <td>5.1</td>\n",
       "      <td>1.8</td>\n",
       "      <td>Iris-virginica</td>\n",
       "    </tr>\n",
       "  </tbody>\n",
       "</table>\n",
       "</div>"
      ],
      "text/plain": [
       "     SepalLengthCm  SepalWidthCm  PetalLengthCm  PetalWidthCm         Species\n",
       "145            6.7           3.0            5.2           2.3  Iris-virginica\n",
       "146            6.3           2.5            5.0           1.9  Iris-virginica\n",
       "147            6.5           3.0            5.2           2.0  Iris-virginica\n",
       "148            6.2           3.4            5.4           2.3  Iris-virginica\n",
       "149            5.9           3.0            5.1           1.8  Iris-virginica"
      ]
     },
     "execution_count": 12,
     "metadata": {},
     "output_type": "execute_result"
    }
   ],
   "source": [
    "data.tail()"
   ]
  },
  {
   "cell_type": "code",
   "execution_count": 13,
   "id": "0e6bde9d",
   "metadata": {
    "execution": {
     "iopub.execute_input": "2021-11-15T14:25:55.456546Z",
     "iopub.status.busy": "2021-11-15T14:25:55.455764Z",
     "iopub.status.idle": "2021-11-15T14:25:55.466997Z",
     "shell.execute_reply": "2021-11-15T14:25:55.467445Z",
     "shell.execute_reply.started": "2021-11-15T14:25:02.102069Z"
    },
    "papermill": {
     "duration": 0.074823,
     "end_time": "2021-11-15T14:25:55.467615",
     "exception": false,
     "start_time": "2021-11-15T14:25:55.392792",
     "status": "completed"
    },
    "tags": []
   },
   "outputs": [
    {
     "data": {
      "text/html": [
       "<div>\n",
       "<style scoped>\n",
       "    .dataframe tbody tr th:only-of-type {\n",
       "        vertical-align: middle;\n",
       "    }\n",
       "\n",
       "    .dataframe tbody tr th {\n",
       "        vertical-align: top;\n",
       "    }\n",
       "\n",
       "    .dataframe thead th {\n",
       "        text-align: right;\n",
       "    }\n",
       "</style>\n",
       "<table border=\"1\" class=\"dataframe\">\n",
       "  <thead>\n",
       "    <tr style=\"text-align: right;\">\n",
       "      <th></th>\n",
       "      <th>SepalLengthCm</th>\n",
       "      <th>SepalWidthCm</th>\n",
       "      <th>PetalLengthCm</th>\n",
       "      <th>PetalWidthCm</th>\n",
       "    </tr>\n",
       "  </thead>\n",
       "  <tbody>\n",
       "    <tr>\n",
       "      <th>SepalLengthCm</th>\n",
       "      <td>1.000000</td>\n",
       "      <td>-0.109369</td>\n",
       "      <td>0.871754</td>\n",
       "      <td>0.817954</td>\n",
       "    </tr>\n",
       "    <tr>\n",
       "      <th>SepalWidthCm</th>\n",
       "      <td>-0.109369</td>\n",
       "      <td>1.000000</td>\n",
       "      <td>-0.420516</td>\n",
       "      <td>-0.356544</td>\n",
       "    </tr>\n",
       "    <tr>\n",
       "      <th>PetalLengthCm</th>\n",
       "      <td>0.871754</td>\n",
       "      <td>-0.420516</td>\n",
       "      <td>1.000000</td>\n",
       "      <td>0.962757</td>\n",
       "    </tr>\n",
       "    <tr>\n",
       "      <th>PetalWidthCm</th>\n",
       "      <td>0.817954</td>\n",
       "      <td>-0.356544</td>\n",
       "      <td>0.962757</td>\n",
       "      <td>1.000000</td>\n",
       "    </tr>\n",
       "  </tbody>\n",
       "</table>\n",
       "</div>"
      ],
      "text/plain": [
       "               SepalLengthCm  SepalWidthCm  PetalLengthCm  PetalWidthCm\n",
       "SepalLengthCm       1.000000     -0.109369       0.871754      0.817954\n",
       "SepalWidthCm       -0.109369      1.000000      -0.420516     -0.356544\n",
       "PetalLengthCm       0.871754     -0.420516       1.000000      0.962757\n",
       "PetalWidthCm        0.817954     -0.356544       0.962757      1.000000"
      ]
     },
     "execution_count": 13,
     "metadata": {},
     "output_type": "execute_result"
    }
   ],
   "source": [
    "data.corr()"
   ]
  },
  {
   "cell_type": "code",
   "execution_count": 14,
   "id": "f80666cb",
   "metadata": {
    "execution": {
     "iopub.execute_input": "2021-11-15T14:25:55.592707Z",
     "iopub.status.busy": "2021-11-15T14:25:55.591632Z",
     "iopub.status.idle": "2021-11-15T14:25:55.594892Z",
     "shell.execute_reply": "2021-11-15T14:25:55.595353Z",
     "shell.execute_reply.started": "2021-11-15T14:25:02.117620Z"
    },
    "papermill": {
     "duration": 0.068865,
     "end_time": "2021-11-15T14:25:55.595561",
     "exception": false,
     "start_time": "2021-11-15T14:25:55.526696",
     "status": "completed"
    },
    "tags": []
   },
   "outputs": [],
   "source": [
    "#data.corr()[\"Species_Iris-versicolor\"]"
   ]
  },
  {
   "cell_type": "code",
   "execution_count": 15,
   "id": "c8f56d2b",
   "metadata": {
    "execution": {
     "iopub.execute_input": "2021-11-15T14:25:55.720419Z",
     "iopub.status.busy": "2021-11-15T14:25:55.719348Z",
     "iopub.status.idle": "2021-11-15T14:25:55.731253Z",
     "shell.execute_reply": "2021-11-15T14:25:55.731741Z",
     "shell.execute_reply.started": "2021-11-15T14:25:02.123741Z"
    },
    "papermill": {
     "duration": 0.076569,
     "end_time": "2021-11-15T14:25:55.731964",
     "exception": false,
     "start_time": "2021-11-15T14:25:55.655395",
     "status": "completed"
    },
    "tags": []
   },
   "outputs": [
    {
     "data": {
      "text/html": [
       "<div>\n",
       "<style scoped>\n",
       "    .dataframe tbody tr th:only-of-type {\n",
       "        vertical-align: middle;\n",
       "    }\n",
       "\n",
       "    .dataframe tbody tr th {\n",
       "        vertical-align: top;\n",
       "    }\n",
       "\n",
       "    .dataframe thead th {\n",
       "        text-align: right;\n",
       "    }\n",
       "</style>\n",
       "<table border=\"1\" class=\"dataframe\">\n",
       "  <thead>\n",
       "    <tr style=\"text-align: right;\">\n",
       "      <th></th>\n",
       "      <th>SepalLengthCm</th>\n",
       "      <th>SepalWidthCm</th>\n",
       "      <th>PetalLengthCm</th>\n",
       "      <th>PetalWidthCm</th>\n",
       "    </tr>\n",
       "  </thead>\n",
       "  <tbody>\n",
       "    <tr>\n",
       "      <th>SepalLengthCm</th>\n",
       "      <td>1.000000</td>\n",
       "      <td>-0.109369</td>\n",
       "      <td>0.871754</td>\n",
       "      <td>0.817954</td>\n",
       "    </tr>\n",
       "    <tr>\n",
       "      <th>SepalWidthCm</th>\n",
       "      <td>-0.109369</td>\n",
       "      <td>1.000000</td>\n",
       "      <td>-0.420516</td>\n",
       "      <td>-0.356544</td>\n",
       "    </tr>\n",
       "    <tr>\n",
       "      <th>PetalLengthCm</th>\n",
       "      <td>0.871754</td>\n",
       "      <td>-0.420516</td>\n",
       "      <td>1.000000</td>\n",
       "      <td>0.962757</td>\n",
       "    </tr>\n",
       "    <tr>\n",
       "      <th>PetalWidthCm</th>\n",
       "      <td>0.817954</td>\n",
       "      <td>-0.356544</td>\n",
       "      <td>0.962757</td>\n",
       "      <td>1.000000</td>\n",
       "    </tr>\n",
       "  </tbody>\n",
       "</table>\n",
       "</div>"
      ],
      "text/plain": [
       "               SepalLengthCm  SepalWidthCm  PetalLengthCm  PetalWidthCm\n",
       "SepalLengthCm       1.000000     -0.109369       0.871754      0.817954\n",
       "SepalWidthCm       -0.109369      1.000000      -0.420516     -0.356544\n",
       "PetalLengthCm       0.871754     -0.420516       1.000000      0.962757\n",
       "PetalWidthCm        0.817954     -0.356544       0.962757      1.000000"
      ]
     },
     "execution_count": 15,
     "metadata": {},
     "output_type": "execute_result"
    }
   ],
   "source": [
    "data.corr()"
   ]
  },
  {
   "cell_type": "code",
   "execution_count": null,
   "id": "55668cef",
   "metadata": {
    "papermill": {
     "duration": 0.060919,
     "end_time": "2021-11-15T14:25:55.854479",
     "exception": false,
     "start_time": "2021-11-15T14:25:55.793560",
     "status": "completed"
    },
    "tags": []
   },
   "outputs": [],
   "source": []
  },
  {
   "cell_type": "code",
   "execution_count": 16,
   "id": "54316cbd",
   "metadata": {
    "execution": {
     "iopub.execute_input": "2021-11-15T14:25:55.985425Z",
     "iopub.status.busy": "2021-11-15T14:25:55.984686Z",
     "iopub.status.idle": "2021-11-15T14:25:55.987402Z",
     "shell.execute_reply": "2021-11-15T14:25:55.987898Z",
     "shell.execute_reply.started": "2021-11-15T14:25:02.142910Z"
    },
    "papermill": {
     "duration": 0.070641,
     "end_time": "2021-11-15T14:25:55.988086",
     "exception": false,
     "start_time": "2021-11-15T14:25:55.917445",
     "status": "completed"
    },
    "tags": []
   },
   "outputs": [
    {
     "data": {
      "text/plain": [
       "(150, 5)"
      ]
     },
     "execution_count": 16,
     "metadata": {},
     "output_type": "execute_result"
    }
   ],
   "source": [
    "data.shape"
   ]
  },
  {
   "cell_type": "code",
   "execution_count": 17,
   "id": "f4ac05fa",
   "metadata": {
    "execution": {
     "iopub.execute_input": "2021-11-15T14:25:56.115838Z",
     "iopub.status.busy": "2021-11-15T14:25:56.115082Z",
     "iopub.status.idle": "2021-11-15T14:25:56.507519Z",
     "shell.execute_reply": "2021-11-15T14:25:56.506798Z",
     "shell.execute_reply.started": "2021-11-15T14:25:02.155160Z"
    },
    "papermill": {
     "duration": 0.456501,
     "end_time": "2021-11-15T14:25:56.507684",
     "exception": false,
     "start_time": "2021-11-15T14:25:56.051183",
     "status": "completed"
    },
    "tags": []
   },
   "outputs": [
    {
     "data": {
      "text/plain": [
       "<AxesSubplot:>"
      ]
     },
     "execution_count": 17,
     "metadata": {},
     "output_type": "execute_result"
    },
    {
     "data": {
      "image/png": "[encoded data removed]",
      "text/plain": [
       "<Figure size 432x288 with 2 Axes>"
      ]
     },
     "metadata": {
      "needs_background": "light"
     },
     "output_type": "display_data"
    }
   ],
   "source": [
    "sns.heatmap(data.corr()\n",
    "            #.abs()\n",
    "            \n",
    "            ,annot=True)"
   ]
  },
  {
   "cell_type": "code",
   "execution_count": 18,
   "id": "c90d2f31",
   "metadata": {
    "execution": {
     "iopub.execute_input": "2021-11-15T14:25:56.639084Z",
     "iopub.status.busy": "2021-11-15T14:25:56.638352Z",
     "iopub.status.idle": "2021-11-15T14:25:56.640711Z",
     "shell.execute_reply": "2021-11-15T14:25:56.641243Z",
     "shell.execute_reply.started": "2021-11-15T14:25:02.509848Z"
    },
    "papermill": {
     "duration": 0.070651,
     "end_time": "2021-11-15T14:25:56.641422",
     "exception": false,
     "start_time": "2021-11-15T14:25:56.570771",
     "status": "completed"
    },
    "tags": []
   },
   "outputs": [],
   "source": [
    "#data.corr(method='kendall’)"
   ]
  },
  {
   "cell_type": "code",
   "execution_count": 19,
   "id": "ac9419c5",
   "metadata": {
    "execution": {
     "iopub.execute_input": "2021-11-15T14:25:56.767958Z",
     "iopub.status.busy": "2021-11-15T14:25:56.767235Z",
     "iopub.status.idle": "2021-11-15T14:25:56.770476Z",
     "shell.execute_reply": "2021-11-15T14:25:56.769769Z",
     "shell.execute_reply.started": "2021-11-15T14:25:02.516927Z"
    },
    "papermill": {
     "duration": 0.068064,
     "end_time": "2021-11-15T14:25:56.770615",
     "exception": false,
     "start_time": "2021-11-15T14:25:56.702551",
     "status": "completed"
    },
    "tags": []
   },
   "outputs": [],
   "source": [
    "#method='pearson'"
   ]
  },
  {
   "cell_type": "code",
   "execution_count": 20,
   "id": "dabbc67f",
   "metadata": {
    "execution": {
     "iopub.execute_input": "2021-11-15T14:25:56.899407Z",
     "iopub.status.busy": "2021-11-15T14:25:56.898656Z",
     "iopub.status.idle": "2021-11-15T14:25:56.903577Z",
     "shell.execute_reply": "2021-11-15T14:25:56.904109Z",
     "shell.execute_reply.started": "2021-11-15T14:25:02.526811Z"
    },
    "papermill": {
     "duration": 0.072345,
     "end_time": "2021-11-15T14:25:56.904277",
     "exception": false,
     "start_time": "2021-11-15T14:25:56.831932",
     "status": "completed"
    },
    "tags": []
   },
   "outputs": [],
   "source": [
    "new=pd.read_csv('../input/iris/Iris.csv')"
   ]
  },
  {
   "cell_type": "code",
   "execution_count": 21,
   "id": "8429ea72",
   "metadata": {
    "execution": {
     "iopub.execute_input": "2021-11-15T14:25:57.032972Z",
     "iopub.status.busy": "2021-11-15T14:25:57.032258Z",
     "iopub.status.idle": "2021-11-15T14:25:57.044997Z",
     "shell.execute_reply": "2021-11-15T14:25:57.045615Z",
     "shell.execute_reply.started": "2021-11-15T14:25:02.539310Z"
    },
    "papermill": {
     "duration": 0.079217,
     "end_time": "2021-11-15T14:25:57.045792",
     "exception": false,
     "start_time": "2021-11-15T14:25:56.966575",
     "status": "completed"
    },
    "tags": []
   },
   "outputs": [
    {
     "data": {
      "text/html": [
       "<div>\n",
       "<style scoped>\n",
       "    .dataframe tbody tr th:only-of-type {\n",
       "        vertical-align: middle;\n",
       "    }\n",
       "\n",
       "    .dataframe tbody tr th {\n",
       "        vertical-align: top;\n",
       "    }\n",
       "\n",
       "    .dataframe thead th {\n",
       "        text-align: right;\n",
       "    }\n",
       "</style>\n",
       "<table border=\"1\" class=\"dataframe\">\n",
       "  <thead>\n",
       "    <tr style=\"text-align: right;\">\n",
       "      <th></th>\n",
       "      <th>Id</th>\n",
       "      <th>SepalLengthCm</th>\n",
       "      <th>SepalWidthCm</th>\n",
       "      <th>PetalLengthCm</th>\n",
       "      <th>PetalWidthCm</th>\n",
       "      <th>Species</th>\n",
       "    </tr>\n",
       "  </thead>\n",
       "  <tbody>\n",
       "    <tr>\n",
       "      <th>0</th>\n",
       "      <td>1</td>\n",
       "      <td>5.1</td>\n",
       "      <td>3.5</td>\n",
       "      <td>1.4</td>\n",
       "      <td>0.2</td>\n",
       "      <td>Iris-setosa</td>\n",
       "    </tr>\n",
       "    <tr>\n",
       "      <th>1</th>\n",
       "      <td>2</td>\n",
       "      <td>4.9</td>\n",
       "      <td>3.0</td>\n",
       "      <td>1.4</td>\n",
       "      <td>0.2</td>\n",
       "      <td>Iris-setosa</td>\n",
       "    </tr>\n",
       "    <tr>\n",
       "      <th>2</th>\n",
       "      <td>3</td>\n",
       "      <td>4.7</td>\n",
       "      <td>3.2</td>\n",
       "      <td>1.3</td>\n",
       "      <td>0.2</td>\n",
       "      <td>Iris-setosa</td>\n",
       "    </tr>\n",
       "    <tr>\n",
       "      <th>3</th>\n",
       "      <td>4</td>\n",
       "      <td>4.6</td>\n",
       "      <td>3.1</td>\n",
       "      <td>1.5</td>\n",
       "      <td>0.2</td>\n",
       "      <td>Iris-setosa</td>\n",
       "    </tr>\n",
       "    <tr>\n",
       "      <th>4</th>\n",
       "      <td>5</td>\n",
       "      <td>5.0</td>\n",
       "      <td>3.6</td>\n",
       "      <td>1.4</td>\n",
       "      <td>0.2</td>\n",
       "      <td>Iris-setosa</td>\n",
       "    </tr>\n",
       "  </tbody>\n",
       "</table>\n",
       "</div>"
      ],
      "text/plain": [
       "   Id  SepalLengthCm  SepalWidthCm  PetalLengthCm  PetalWidthCm      Species\n",
       "0   1            5.1           3.5            1.4           0.2  Iris-setosa\n",
       "1   2            4.9           3.0            1.4           0.2  Iris-setosa\n",
       "2   3            4.7           3.2            1.3           0.2  Iris-setosa\n",
       "3   4            4.6           3.1            1.5           0.2  Iris-setosa\n",
       "4   5            5.0           3.6            1.4           0.2  Iris-setosa"
      ]
     },
     "execution_count": 21,
     "metadata": {},
     "output_type": "execute_result"
    }
   ],
   "source": [
    "new.head()"
   ]
  },
  {
   "cell_type": "code",
   "execution_count": 22,
   "id": "470ee1b1",
   "metadata": {
    "execution": {
     "iopub.execute_input": "2021-11-15T14:25:57.174090Z",
     "iopub.status.busy": "2021-11-15T14:25:57.173357Z",
     "iopub.status.idle": "2021-11-15T14:25:57.176275Z",
     "shell.execute_reply": "2021-11-15T14:25:57.176829Z",
     "shell.execute_reply.started": "2021-11-15T14:25:02.557311Z"
    },
    "papermill": {
     "duration": 0.068083,
     "end_time": "2021-11-15T14:25:57.177053",
     "exception": false,
     "start_time": "2021-11-15T14:25:57.108970",
     "status": "completed"
    },
    "tags": []
   },
   "outputs": [],
   "source": [
    "#new.corr(method=callable)"
   ]
  },
  {
   "cell_type": "code",
   "execution_count": 23,
   "id": "da6ba27d",
   "metadata": {
    "execution": {
     "iopub.execute_input": "2021-11-15T14:25:57.313028Z",
     "iopub.status.busy": "2021-11-15T14:25:57.305109Z",
     "iopub.status.idle": "2021-11-15T14:25:57.316703Z",
     "shell.execute_reply": "2021-11-15T14:25:57.317260Z",
     "shell.execute_reply.started": "2021-11-15T14:25:02.568634Z"
    },
    "papermill": {
     "duration": 0.078735,
     "end_time": "2021-11-15T14:25:57.317443",
     "exception": false,
     "start_time": "2021-11-15T14:25:57.238708",
     "status": "completed"
    },
    "tags": []
   },
   "outputs": [
    {
     "data": {
      "text/html": [
       "<div>\n",
       "<style scoped>\n",
       "    .dataframe tbody tr th:only-of-type {\n",
       "        vertical-align: middle;\n",
       "    }\n",
       "\n",
       "    .dataframe tbody tr th {\n",
       "        vertical-align: top;\n",
       "    }\n",
       "\n",
       "    .dataframe thead th {\n",
       "        text-align: right;\n",
       "    }\n",
       "</style>\n",
       "<table border=\"1\" class=\"dataframe\">\n",
       "  <thead>\n",
       "    <tr style=\"text-align: right;\">\n",
       "      <th></th>\n",
       "      <th>SepalLengthCm</th>\n",
       "      <th>SepalWidthCm</th>\n",
       "      <th>PetalLengthCm</th>\n",
       "      <th>PetalWidthCm</th>\n",
       "    </tr>\n",
       "  </thead>\n",
       "  <tbody>\n",
       "    <tr>\n",
       "      <th>SepalLengthCm</th>\n",
       "      <td>1.000000</td>\n",
       "      <td>-0.109369</td>\n",
       "      <td>0.871754</td>\n",
       "      <td>0.817954</td>\n",
       "    </tr>\n",
       "    <tr>\n",
       "      <th>SepalWidthCm</th>\n",
       "      <td>-0.109369</td>\n",
       "      <td>1.000000</td>\n",
       "      <td>-0.420516</td>\n",
       "      <td>-0.356544</td>\n",
       "    </tr>\n",
       "    <tr>\n",
       "      <th>PetalLengthCm</th>\n",
       "      <td>0.871754</td>\n",
       "      <td>-0.420516</td>\n",
       "      <td>1.000000</td>\n",
       "      <td>0.962757</td>\n",
       "    </tr>\n",
       "    <tr>\n",
       "      <th>PetalWidthCm</th>\n",
       "      <td>0.817954</td>\n",
       "      <td>-0.356544</td>\n",
       "      <td>0.962757</td>\n",
       "      <td>1.000000</td>\n",
       "    </tr>\n",
       "  </tbody>\n",
       "</table>\n",
       "</div>"
      ],
      "text/plain": [
       "               SepalLengthCm  SepalWidthCm  PetalLengthCm  PetalWidthCm\n",
       "SepalLengthCm       1.000000     -0.109369       0.871754      0.817954\n",
       "SepalWidthCm       -0.109369      1.000000      -0.420516     -0.356544\n",
       "PetalLengthCm       0.871754     -0.420516       1.000000      0.962757\n",
       "PetalWidthCm        0.817954     -0.356544       0.962757      1.000000"
      ]
     },
     "execution_count": 23,
     "metadata": {},
     "output_type": "execute_result"
    }
   ],
   "source": [
    "data.corr()"
   ]
  },
  {
   "cell_type": "code",
   "execution_count": 24,
   "id": "0a49fdfc",
   "metadata": {
    "execution": {
     "iopub.execute_input": "2021-11-15T14:25:57.502375Z",
     "iopub.status.busy": "2021-11-15T14:25:57.501397Z",
     "iopub.status.idle": "2021-11-15T14:25:57.511432Z",
     "shell.execute_reply": "2021-11-15T14:25:57.512061Z",
     "shell.execute_reply.started": "2021-11-15T14:25:02.588102Z"
    },
    "papermill": {
     "duration": 0.127295,
     "end_time": "2021-11-15T14:25:57.512236",
     "exception": false,
     "start_time": "2021-11-15T14:25:57.384941",
     "status": "completed"
    },
    "tags": []
   },
   "outputs": [
    {
     "data": {
      "text/html": [
       "<div>\n",
       "<style scoped>\n",
       "    .dataframe tbody tr th:only-of-type {\n",
       "        vertical-align: middle;\n",
       "    }\n",
       "\n",
       "    .dataframe tbody tr th {\n",
       "        vertical-align: top;\n",
       "    }\n",
       "\n",
       "    .dataframe thead th {\n",
       "        text-align: right;\n",
       "    }\n",
       "</style>\n",
       "<table border=\"1\" class=\"dataframe\">\n",
       "  <thead>\n",
       "    <tr style=\"text-align: right;\">\n",
       "      <th></th>\n",
       "      <th>SepalLengthCm</th>\n",
       "      <th>SepalWidthCm</th>\n",
       "      <th>PetalLengthCm</th>\n",
       "      <th>PetalWidthCm</th>\n",
       "    </tr>\n",
       "  </thead>\n",
       "  <tbody>\n",
       "    <tr>\n",
       "      <th>SepalLengthCm</th>\n",
       "      <td>1.000000</td>\n",
       "      <td>-0.109369</td>\n",
       "      <td>0.871754</td>\n",
       "      <td>0.817954</td>\n",
       "    </tr>\n",
       "    <tr>\n",
       "      <th>SepalWidthCm</th>\n",
       "      <td>-0.109369</td>\n",
       "      <td>1.000000</td>\n",
       "      <td>-0.420516</td>\n",
       "      <td>-0.356544</td>\n",
       "    </tr>\n",
       "    <tr>\n",
       "      <th>PetalLengthCm</th>\n",
       "      <td>0.871754</td>\n",
       "      <td>-0.420516</td>\n",
       "      <td>1.000000</td>\n",
       "      <td>0.962757</td>\n",
       "    </tr>\n",
       "    <tr>\n",
       "      <th>PetalWidthCm</th>\n",
       "      <td>0.817954</td>\n",
       "      <td>-0.356544</td>\n",
       "      <td>0.962757</td>\n",
       "      <td>1.000000</td>\n",
       "    </tr>\n",
       "  </tbody>\n",
       "</table>\n",
       "</div>"
      ],
      "text/plain": [
       "               SepalLengthCm  SepalWidthCm  PetalLengthCm  PetalWidthCm\n",
       "SepalLengthCm       1.000000     -0.109369       0.871754      0.817954\n",
       "SepalWidthCm       -0.109369      1.000000      -0.420516     -0.356544\n",
       "PetalLengthCm       0.871754     -0.420516       1.000000      0.962757\n",
       "PetalWidthCm        0.817954     -0.356544       0.962757      1.000000"
      ]
     },
     "execution_count": 24,
     "metadata": {},
     "output_type": "execute_result"
    }
   ],
   "source": [
    "data.corr(method='pearson')"
   ]
  },
  {
   "cell_type": "code",
   "execution_count": 25,
   "id": "e9dd9879",
   "metadata": {
    "execution": {
     "iopub.execute_input": "2021-11-15T14:25:57.645515Z",
     "iopub.status.busy": "2021-11-15T14:25:57.643002Z",
     "iopub.status.idle": "2021-11-15T14:25:57.660655Z",
     "shell.execute_reply": "2021-11-15T14:25:57.661289Z",
     "shell.execute_reply.started": "2021-11-15T14:25:02.603248Z"
    },
    "papermill": {
     "duration": 0.085817,
     "end_time": "2021-11-15T14:25:57.661485",
     "exception": false,
     "start_time": "2021-11-15T14:25:57.575668",
     "status": "completed"
    },
    "tags": []
   },
   "outputs": [
    {
     "data": {
      "text/html": [
       "<div>\n",
       "<style scoped>\n",
       "    .dataframe tbody tr th:only-of-type {\n",
       "        vertical-align: middle;\n",
       "    }\n",
       "\n",
       "    .dataframe tbody tr th {\n",
       "        vertical-align: top;\n",
       "    }\n",
       "\n",
       "    .dataframe thead th {\n",
       "        text-align: right;\n",
       "    }\n",
       "</style>\n",
       "<table border=\"1\" class=\"dataframe\">\n",
       "  <thead>\n",
       "    <tr style=\"text-align: right;\">\n",
       "      <th></th>\n",
       "      <th>SepalLengthCm</th>\n",
       "      <th>SepalWidthCm</th>\n",
       "      <th>PetalLengthCm</th>\n",
       "      <th>PetalWidthCm</th>\n",
       "    </tr>\n",
       "  </thead>\n",
       "  <tbody>\n",
       "    <tr>\n",
       "      <th>SepalLengthCm</th>\n",
       "      <td>1.000000</td>\n",
       "      <td>-0.072112</td>\n",
       "      <td>0.717624</td>\n",
       "      <td>0.654960</td>\n",
       "    </tr>\n",
       "    <tr>\n",
       "      <th>SepalWidthCm</th>\n",
       "      <td>-0.072112</td>\n",
       "      <td>1.000000</td>\n",
       "      <td>-0.182391</td>\n",
       "      <td>-0.146988</td>\n",
       "    </tr>\n",
       "    <tr>\n",
       "      <th>PetalLengthCm</th>\n",
       "      <td>0.717624</td>\n",
       "      <td>-0.182391</td>\n",
       "      <td>1.000000</td>\n",
       "      <td>0.803014</td>\n",
       "    </tr>\n",
       "    <tr>\n",
       "      <th>PetalWidthCm</th>\n",
       "      <td>0.654960</td>\n",
       "      <td>-0.146988</td>\n",
       "      <td>0.803014</td>\n",
       "      <td>1.000000</td>\n",
       "    </tr>\n",
       "  </tbody>\n",
       "</table>\n",
       "</div>"
      ],
      "text/plain": [
       "               SepalLengthCm  SepalWidthCm  PetalLengthCm  PetalWidthCm\n",
       "SepalLengthCm       1.000000     -0.072112       0.717624      0.654960\n",
       "SepalWidthCm       -0.072112      1.000000      -0.182391     -0.146988\n",
       "PetalLengthCm       0.717624     -0.182391       1.000000      0.803014\n",
       "PetalWidthCm        0.654960     -0.146988       0.803014      1.000000"
      ]
     },
     "execution_count": 25,
     "metadata": {},
     "output_type": "execute_result"
    }
   ],
   "source": [
    "data.corr(method=\"kendall\")"
   ]
  },
  {
   "cell_type": "code",
   "execution_count": 26,
   "id": "57e56b1c",
   "metadata": {
    "execution": {
     "iopub.execute_input": "2021-11-15T14:25:57.794252Z",
     "iopub.status.busy": "2021-11-15T14:25:57.793506Z",
     "iopub.status.idle": "2021-11-15T14:25:57.808822Z",
     "shell.execute_reply": "2021-11-15T14:25:57.809418Z",
     "shell.execute_reply.started": "2021-11-15T14:25:02.627566Z"
    },
    "papermill": {
     "duration": 0.083582,
     "end_time": "2021-11-15T14:25:57.809616",
     "exception": false,
     "start_time": "2021-11-15T14:25:57.726034",
     "status": "completed"
    },
    "tags": []
   },
   "outputs": [
    {
     "data": {
      "text/html": [
       "<div>\n",
       "<style scoped>\n",
       "    .dataframe tbody tr th:only-of-type {\n",
       "        vertical-align: middle;\n",
       "    }\n",
       "\n",
       "    .dataframe tbody tr th {\n",
       "        vertical-align: top;\n",
       "    }\n",
       "\n",
       "    .dataframe thead th {\n",
       "        text-align: right;\n",
       "    }\n",
       "</style>\n",
       "<table border=\"1\" class=\"dataframe\">\n",
       "  <thead>\n",
       "    <tr style=\"text-align: right;\">\n",
       "      <th></th>\n",
       "      <th>SepalLengthCm</th>\n",
       "      <th>SepalWidthCm</th>\n",
       "      <th>PetalLengthCm</th>\n",
       "      <th>PetalWidthCm</th>\n",
       "    </tr>\n",
       "  </thead>\n",
       "  <tbody>\n",
       "    <tr>\n",
       "      <th>SepalLengthCm</th>\n",
       "      <td>1.000000</td>\n",
       "      <td>-0.159457</td>\n",
       "      <td>0.881386</td>\n",
       "      <td>0.834421</td>\n",
       "    </tr>\n",
       "    <tr>\n",
       "      <th>SepalWidthCm</th>\n",
       "      <td>-0.159457</td>\n",
       "      <td>1.000000</td>\n",
       "      <td>-0.303421</td>\n",
       "      <td>-0.277511</td>\n",
       "    </tr>\n",
       "    <tr>\n",
       "      <th>PetalLengthCm</th>\n",
       "      <td>0.881386</td>\n",
       "      <td>-0.303421</td>\n",
       "      <td>1.000000</td>\n",
       "      <td>0.936003</td>\n",
       "    </tr>\n",
       "    <tr>\n",
       "      <th>PetalWidthCm</th>\n",
       "      <td>0.834421</td>\n",
       "      <td>-0.277511</td>\n",
       "      <td>0.936003</td>\n",
       "      <td>1.000000</td>\n",
       "    </tr>\n",
       "  </tbody>\n",
       "</table>\n",
       "</div>"
      ],
      "text/plain": [
       "               SepalLengthCm  SepalWidthCm  PetalLengthCm  PetalWidthCm\n",
       "SepalLengthCm       1.000000     -0.159457       0.881386      0.834421\n",
       "SepalWidthCm       -0.159457      1.000000      -0.303421     -0.277511\n",
       "PetalLengthCm       0.881386     -0.303421       1.000000      0.936003\n",
       "PetalWidthCm        0.834421     -0.277511       0.936003      1.000000"
      ]
     },
     "execution_count": 26,
     "metadata": {},
     "output_type": "execute_result"
    }
   ],
   "source": [
    "data.corr(method=\"spearman\")"
   ]
  },
  {
   "cell_type": "code",
   "execution_count": null,
   "id": "433fea28",
   "metadata": {
    "papermill": {
     "duration": 0.064216,
     "end_time": "2021-11-15T14:25:57.938410",
     "exception": false,
     "start_time": "2021-11-15T14:25:57.874194",
     "status": "completed"
    },
    "tags": []
   },
   "outputs": [],
   "source": []
  },
  {
   "cell_type": "code",
   "execution_count": 27,
   "id": "0fb77791",
   "metadata": {
    "execution": {
     "iopub.execute_input": "2021-11-15T14:25:58.073692Z",
     "iopub.status.busy": "2021-11-15T14:25:58.073010Z",
     "iopub.status.idle": "2021-11-15T14:25:58.427269Z",
     "shell.execute_reply": "2021-11-15T14:25:58.427798Z",
     "shell.execute_reply.started": "2021-11-15T14:25:02.644653Z"
    },
    "papermill": {
     "duration": 0.425514,
     "end_time": "2021-11-15T14:25:58.428023",
     "exception": false,
     "start_time": "2021-11-15T14:25:58.002509",
     "status": "completed"
    },
    "tags": []
   },
   "outputs": [
    {
     "data": {
      "text/plain": [
       "<AxesSubplot:>"
      ]
     },
     "execution_count": 27,
     "metadata": {},
     "output_type": "execute_result"
    },
    {
     "data": {
      "image/png": "[encoded data removed]",
      "text/plain": [
       "<Figure size 432x288 with 2 Axes>"
      ]
     },
     "metadata": {
      "needs_background": "light"
     },
     "output_type": "display_data"
    }
   ],
   "source": [
    "sns.heatmap(data.corr(method=\"pearson\")\n",
    "            #.abs()\n",
    "            \n",
    "            ,annot=True)"
   ]
  },
  {
   "cell_type": "code",
   "execution_count": 28,
   "id": "f267a8c2",
   "metadata": {
    "execution": {
     "iopub.execute_input": "2021-11-15T14:25:58.564428Z",
     "iopub.status.busy": "2021-11-15T14:25:58.563647Z",
     "iopub.status.idle": "2021-11-15T14:25:58.901611Z",
     "shell.execute_reply": "2021-11-15T14:25:58.902116Z",
     "shell.execute_reply.started": "2021-11-15T14:25:02.966609Z"
    },
    "papermill": {
     "duration": 0.407796,
     "end_time": "2021-11-15T14:25:58.902316",
     "exception": false,
     "start_time": "2021-11-15T14:25:58.494520",
     "status": "completed"
    },
    "tags": []
   },
   "outputs": [
    {
     "data": {
      "text/plain": [
       "<AxesSubplot:>"
      ]
     },
     "execution_count": 28,
     "metadata": {},
     "output_type": "execute_result"
    },
    {
     "data": {
      "image/png": "[encoded data removed]",
      "text/plain": [
       "<Figure size 432x288 with 2 Axes>"
      ]
     },
     "metadata": {
      "needs_background": "light"
     },
     "output_type": "display_data"
    }
   ],
   "source": [
    "sns.heatmap(data.corr(method=\"spearman\")\n",
    "            #.abs()\n",
    "            \n",
    "            ,annot=True)"
   ]
  },
  {
   "cell_type": "code",
   "execution_count": 29,
   "id": "bef0ab20",
   "metadata": {
    "execution": {
     "iopub.execute_input": "2021-11-15T14:25:59.041771Z",
     "iopub.status.busy": "2021-11-15T14:25:59.041159Z",
     "iopub.status.idle": "2021-11-15T14:25:59.367204Z",
     "shell.execute_reply": "2021-11-15T14:25:59.366615Z",
     "shell.execute_reply.started": "2021-11-15T14:25:03.296658Z"
    },
    "papermill": {
     "duration": 0.397193,
     "end_time": "2021-11-15T14:25:59.367339",
     "exception": false,
     "start_time": "2021-11-15T14:25:58.970146",
     "status": "completed"
    },
    "tags": []
   },
   "outputs": [
    {
     "data": {
      "text/plain": [
       "<AxesSubplot:>"
      ]
     },
     "execution_count": 29,
     "metadata": {},
     "output_type": "execute_result"
    },
    {
     "data": {
      "image/png": "[encoded data removed]",
      "text/plain": [
       "<Figure size 432x288 with 2 Axes>"
      ]
     },
     "metadata": {
      "needs_background": "light"
     },
     "output_type": "display_data"
    }
   ],
   "source": [
    "sns.heatmap(data.corr(method=\"kendall\")\n",
    "            #.abs()\n",
    "            \n",
    "            ,annot=True)"
   ]
  },
  {
   "cell_type": "code",
   "execution_count": 30,
   "id": "268e591a",
   "metadata": {
    "execution": {
     "iopub.execute_input": "2021-11-15T14:25:59.506210Z",
     "iopub.status.busy": "2021-11-15T14:25:59.505492Z",
     "iopub.status.idle": "2021-11-15T14:26:04.827528Z",
     "shell.execute_reply": "2021-11-15T14:26:04.828060Z",
     "shell.execute_reply.started": "2021-11-15T14:25:03.625679Z"
    },
    "papermill": {
     "duration": 5.39281,
     "end_time": "2021-11-15T14:26:04.828243",
     "exception": false,
     "start_time": "2021-11-15T14:25:59.435433",
     "status": "completed"
    },
    "tags": []
   },
   "outputs": [
    {
     "data": {
      "text/plain": [
       "<seaborn.axisgrid.PairGrid at 0x7f6f5cb742d0>"
      ]
     },
     "execution_count": 30,
     "metadata": {},
     "output_type": "execute_result"
    },
    {
     "data": {
      "image/png": "[encoded data removed]",
      "text/plain": [
       "<Figure size 823.25x720 with 20 Axes>"
      ]
     },
     "metadata": {
      "needs_background": "light"
     },
     "output_type": "display_data"
    }
   ],
   "source": [
    "sns.pairplot(data, hue=\"Species\")"
   ]
  },
  {
   "cell_type": "code",
   "execution_count": 31,
   "id": "f7a5c547",
   "metadata": {
    "execution": {
     "iopub.execute_input": "2021-11-15T14:26:04.979435Z",
     "iopub.status.busy": "2021-11-15T14:26:04.978432Z",
     "iopub.status.idle": "2021-11-15T14:26:05.668601Z",
     "shell.execute_reply": "2021-11-15T14:26:05.669081Z",
     "shell.execute_reply.started": "2021-11-15T14:25:08.430055Z"
    },
    "papermill": {
     "duration": 0.767209,
     "end_time": "2021-11-15T14:26:05.669257",
     "exception": false,
     "start_time": "2021-11-15T14:26:04.902048",
     "status": "completed"
    },
    "tags": []
   },
   "outputs": [
    {
     "data": {
      "image/png": "[encoded data removed]",
      "text/plain": [
       "<Figure size 1152x648 with 4 Axes>"
      ]
     },
     "metadata": {
      "needs_background": "light"
     },
     "output_type": "display_data"
    }
   ],
   "source": [
    "\n",
    "fig, axes = plt.subplots(2, 2, figsize=(16,9))\n",
    "axes[0,0].set_title(\"Çanak Yaprak Genişliği Dağılımı\")\n",
    "axes[0,0].hist(data['SepalWidthCm'], bins=5);\n",
    "axes[0,1].set_title(\"Çanak Yaprak Uzunluğu Dağılımı\")\n",
    "axes[0,1].hist(data['SepalLengthCm'], bins=7);\n",
    "axes[1,0].set_title(\"Taç Yaprak Genişliği Dağılımı\")\n",
    "axes[1,0].hist(data['PetalWidthCm'], bins=5);\n",
    "axes[1,1].set_title(\"Taç Yaprak Uzunluğu Dağılımı\")\n",
    "axes[1,1].hist(data['PetalLengthCm'], bins=6);"
   ]
  },
  {
   "cell_type": "code",
   "execution_count": 32,
   "id": "c6b0c4e4",
   "metadata": {
    "execution": {
     "iopub.execute_input": "2021-11-15T14:26:05.822117Z",
     "iopub.status.busy": "2021-11-15T14:26:05.821080Z",
     "iopub.status.idle": "2021-11-15T14:26:06.309338Z",
     "shell.execute_reply": "2021-11-15T14:26:06.309938Z",
     "shell.execute_reply.started": "2021-11-15T14:25:09.059909Z"
    },
    "papermill": {
     "duration": 0.566692,
     "end_time": "2021-11-15T14:26:06.310108",
     "exception": false,
     "start_time": "2021-11-15T14:26:05.743416",
     "status": "completed"
    },
    "tags": []
   },
   "outputs": [
    {
     "data": {
      "image/png": "[encoded data removed]",
      "text/plain": [
       "<Figure size 463.25x360 with 1 Axes>"
      ]
     },
     "metadata": {
      "needs_background": "light"
     },
     "output_type": "display_data"
    }
   ],
   "source": [
    "sns.FacetGrid(data,hue=\"Species\",height=5).map(sns.distplot,\"PetalWidthCm\").add_legend();"
   ]
  },
  {
   "cell_type": "code",
   "execution_count": 33,
   "id": "5f4a9fdc",
   "metadata": {
    "execution": {
     "iopub.execute_input": "2021-11-15T14:26:06.463743Z",
     "iopub.status.busy": "2021-11-15T14:26:06.462762Z",
     "iopub.status.idle": "2021-11-15T14:26:06.982010Z",
     "shell.execute_reply": "2021-11-15T14:26:06.982548Z",
     "shell.execute_reply.started": "2021-11-15T14:25:09.547748Z"
    },
    "papermill": {
     "duration": 0.59762,
     "end_time": "2021-11-15T14:26:06.982725",
     "exception": false,
     "start_time": "2021-11-15T14:26:06.385105",
     "status": "completed"
    },
    "tags": []
   },
   "outputs": [
    {
     "data": {
      "image/png": "[encoded data removed]",
      "text/plain": [
       "<Figure size 463.25x360 with 1 Axes>"
      ]
     },
     "metadata": {
      "needs_background": "light"
     },
     "output_type": "display_data"
    }
   ],
   "source": [
    "sns.FacetGrid(data,hue=\"Species\",height=5).map(sns.distplot,\"PetalLengthCm\").add_legend();"
   ]
  },
  {
   "cell_type": "code",
   "execution_count": 34,
   "id": "f2814e78",
   "metadata": {
    "execution": {
     "iopub.execute_input": "2021-11-15T14:26:07.175291Z",
     "iopub.status.busy": "2021-11-15T14:26:07.173542Z",
     "iopub.status.idle": "2021-11-15T14:26:07.671003Z",
     "shell.execute_reply": "2021-11-15T14:26:07.671500Z",
     "shell.execute_reply.started": "2021-11-15T14:25:10.034564Z"
    },
    "papermill": {
     "duration": 0.610854,
     "end_time": "2021-11-15T14:26:07.671668",
     "exception": false,
     "start_time": "2021-11-15T14:26:07.060814",
     "status": "completed"
    },
    "tags": []
   },
   "outputs": [
    {
     "data": {
      "image/png": "[encoded data removed]",
      "text/plain": [
       "<Figure size 463.25x360 with 1 Axes>"
      ]
     },
     "metadata": {
      "needs_background": "light"
     },
     "output_type": "display_data"
    }
   ],
   "source": [
    "sns.FacetGrid(data,hue=\"Species\",height=5).map(sns.distplot,\"SepalWidthCm\").add_legend();"
   ]
  },
  {
   "cell_type": "code",
   "execution_count": 35,
   "id": "a3663ca6",
   "metadata": {
    "execution": {
     "iopub.execute_input": "2021-11-15T14:26:07.831670Z",
     "iopub.status.busy": "2021-11-15T14:26:07.830997Z",
     "iopub.status.idle": "2021-11-15T14:26:08.342286Z",
     "shell.execute_reply": "2021-11-15T14:26:08.341566Z",
     "shell.execute_reply.started": "2021-11-15T14:25:10.459803Z"
    },
    "papermill": {
     "duration": 0.592271,
     "end_time": "2021-11-15T14:26:08.342440",
     "exception": false,
     "start_time": "2021-11-15T14:26:07.750169",
     "status": "completed"
    },
    "tags": []
   },
   "outputs": [
    {
     "data": {
      "image/png": "[encoded data removed]",
      "text/plain": [
       "<Figure size 463.25x360 with 1 Axes>"
      ]
     },
     "metadata": {
      "needs_background": "light"
     },
     "output_type": "display_data"
    }
   ],
   "source": [
    "sns.FacetGrid(data,hue=\"Species\",height=5).map(sns.distplot,\"SepalLengthCm\").add_legend();"
   ]
  },
  {
   "cell_type": "code",
   "execution_count": 36,
   "id": "da8d41f5",
   "metadata": {
    "execution": {
     "iopub.execute_input": "2021-11-15T14:26:08.512822Z",
     "iopub.status.busy": "2021-11-15T14:26:08.512152Z",
     "iopub.status.idle": "2021-11-15T14:26:08.515492Z",
     "shell.execute_reply": "2021-11-15T14:26:08.516121Z",
     "shell.execute_reply.started": "2021-11-15T14:25:10.865908Z"
    },
    "papermill": {
     "duration": 0.092012,
     "end_time": "2021-11-15T14:26:08.516293",
     "exception": false,
     "start_time": "2021-11-15T14:26:08.424281",
     "status": "completed"
    },
    "tags": []
   },
   "outputs": [],
   "source": [
    "x = data.iloc[:,:4].values\n",
    "y = data['Species'].values"
   ]
  },
  {
   "cell_type": "code",
   "execution_count": 37,
   "id": "4461e73c",
   "metadata": {
    "execution": {
     "iopub.execute_input": "2021-11-15T14:26:08.681326Z",
     "iopub.status.busy": "2021-11-15T14:26:08.680624Z",
     "iopub.status.idle": "2021-11-15T14:26:08.695053Z",
     "shell.execute_reply": "2021-11-15T14:26:08.695759Z",
     "shell.execute_reply.started": "2021-11-15T14:25:10.873125Z"
    },
    "papermill": {
     "duration": 0.098677,
     "end_time": "2021-11-15T14:26:08.696117",
     "exception": false,
     "start_time": "2021-11-15T14:26:08.597440",
     "status": "completed"
    },
    "tags": []
   },
   "outputs": [
    {
     "name": "stdout",
     "output_type": "stream",
     "text": [
      "Özellik : (150, 4)\n",
      "Label (150,)\n"
     ]
    }
   ],
   "source": [
    "print (\"Özellik :\", x.shape)\n",
    "print (\"Label\", y.shape)"
   ]
  },
  {
   "cell_type": "code",
   "execution_count": 38,
   "id": "c9de5156",
   "metadata": {
    "execution": {
     "iopub.execute_input": "2021-11-15T14:26:08.861000Z",
     "iopub.status.busy": "2021-11-15T14:26:08.860299Z",
     "iopub.status.idle": "2021-11-15T14:26:08.872571Z",
     "shell.execute_reply": "2021-11-15T14:26:08.873125Z",
     "shell.execute_reply.started": "2021-11-15T14:25:10.885598Z"
    },
    "papermill": {
     "duration": 0.096244,
     "end_time": "2021-11-15T14:26:08.873296",
     "exception": false,
     "start_time": "2021-11-15T14:26:08.777052",
     "status": "completed"
    },
    "tags": []
   },
   "outputs": [
    {
     "data": {
      "text/html": [
       "<div>\n",
       "<style scoped>\n",
       "    .dataframe tbody tr th:only-of-type {\n",
       "        vertical-align: middle;\n",
       "    }\n",
       "\n",
       "    .dataframe tbody tr th {\n",
       "        vertical-align: top;\n",
       "    }\n",
       "\n",
       "    .dataframe thead th {\n",
       "        text-align: right;\n",
       "    }\n",
       "</style>\n",
       "<table border=\"1\" class=\"dataframe\">\n",
       "  <thead>\n",
       "    <tr style=\"text-align: right;\">\n",
       "      <th></th>\n",
       "      <th>SepalLengthCm</th>\n",
       "      <th>SepalWidthCm</th>\n",
       "      <th>PetalLengthCm</th>\n",
       "      <th>PetalWidthCm</th>\n",
       "      <th>Species</th>\n",
       "    </tr>\n",
       "  </thead>\n",
       "  <tbody>\n",
       "    <tr>\n",
       "      <th>0</th>\n",
       "      <td>5.1</td>\n",
       "      <td>3.5</td>\n",
       "      <td>1.4</td>\n",
       "      <td>0.2</td>\n",
       "      <td>Iris-setosa</td>\n",
       "    </tr>\n",
       "    <tr>\n",
       "      <th>1</th>\n",
       "      <td>4.9</td>\n",
       "      <td>3.0</td>\n",
       "      <td>1.4</td>\n",
       "      <td>0.2</td>\n",
       "      <td>Iris-setosa</td>\n",
       "    </tr>\n",
       "    <tr>\n",
       "      <th>2</th>\n",
       "      <td>4.7</td>\n",
       "      <td>3.2</td>\n",
       "      <td>1.3</td>\n",
       "      <td>0.2</td>\n",
       "      <td>Iris-setosa</td>\n",
       "    </tr>\n",
       "    <tr>\n",
       "      <th>3</th>\n",
       "      <td>4.6</td>\n",
       "      <td>3.1</td>\n",
       "      <td>1.5</td>\n",
       "      <td>0.2</td>\n",
       "      <td>Iris-setosa</td>\n",
       "    </tr>\n",
       "    <tr>\n",
       "      <th>4</th>\n",
       "      <td>5.0</td>\n",
       "      <td>3.6</td>\n",
       "      <td>1.4</td>\n",
       "      <td>0.2</td>\n",
       "      <td>Iris-setosa</td>\n",
       "    </tr>\n",
       "  </tbody>\n",
       "</table>\n",
       "</div>"
      ],
      "text/plain": [
       "   SepalLengthCm  SepalWidthCm  PetalLengthCm  PetalWidthCm      Species\n",
       "0            5.1           3.5            1.4           0.2  Iris-setosa\n",
       "1            4.9           3.0            1.4           0.2  Iris-setosa\n",
       "2            4.7           3.2            1.3           0.2  Iris-setosa\n",
       "3            4.6           3.1            1.5           0.2  Iris-setosa\n",
       "4            5.0           3.6            1.4           0.2  Iris-setosa"
      ]
     },
     "execution_count": 38,
     "metadata": {},
     "output_type": "execute_result"
    }
   ],
   "source": [
    "data.head()"
   ]
  },
  {
   "cell_type": "code",
   "execution_count": 39,
   "id": "5ee82d69",
   "metadata": {
    "execution": {
     "iopub.execute_input": "2021-11-15T14:26:09.050816Z",
     "iopub.status.busy": "2021-11-15T14:26:09.049767Z",
     "iopub.status.idle": "2021-11-15T14:26:09.053487Z",
     "shell.execute_reply": "2021-11-15T14:26:09.054107Z",
     "shell.execute_reply.started": "2021-11-15T14:25:10.905156Z"
    },
    "papermill": {
     "duration": 0.096972,
     "end_time": "2021-11-15T14:26:09.054304",
     "exception": false,
     "start_time": "2021-11-15T14:26:08.957332",
     "status": "completed"
    },
    "tags": []
   },
   "outputs": [],
   "source": [
    "#toplam 150 adet verimiz modelimizin doğruluğunu görmek için bölüyoruz\n",
    "#test veri setini model eğitim esnasında görmüyor ve sonuçta modelimiz test veri setiyle doğruluk oranını ölçeceğiz\n",
    "\n",
    "x_train, x_test, y_train, y_test = train_test_split(x, y, test_size = 0.2)"
   ]
  },
  {
   "cell_type": "code",
   "execution_count": 40,
   "id": "643a8b25",
   "metadata": {
    "execution": {
     "iopub.execute_input": "2021-11-15T14:26:09.224278Z",
     "iopub.status.busy": "2021-11-15T14:26:09.223496Z",
     "iopub.status.idle": "2021-11-15T14:26:09.228501Z",
     "shell.execute_reply": "2021-11-15T14:26:09.229097Z",
     "shell.execute_reply.started": "2021-11-15T14:25:10.918428Z"
    },
    "papermill": {
     "duration": 0.091335,
     "end_time": "2021-11-15T14:26:09.229304",
     "exception": false,
     "start_time": "2021-11-15T14:26:09.137969",
     "status": "completed"
    },
    "tags": []
   },
   "outputs": [
    {
     "name": "stdout",
     "output_type": "stream",
     "text": [
      "Eğitim veri sayısı: (120, 4)\n",
      "Test veri sayısı: (30, 4)\n"
     ]
    }
   ],
   "source": [
    "print (\"Eğitim veri sayısı:\",x_train.shape)\n",
    "print (\"Test veri sayısı:\",x_test.shape)\n"
   ]
  },
  {
   "cell_type": "code",
   "execution_count": 41,
   "id": "50d9b86a",
   "metadata": {
    "execution": {
     "iopub.execute_input": "2021-11-15T14:26:09.398609Z",
     "iopub.status.busy": "2021-11-15T14:26:09.397747Z",
     "iopub.status.idle": "2021-11-15T14:26:09.411449Z",
     "shell.execute_reply": "2021-11-15T14:26:09.410649Z",
     "shell.execute_reply.started": "2021-11-15T14:25:10.929808Z"
    },
    "papermill": {
     "duration": 0.098915,
     "end_time": "2021-11-15T14:26:09.411617",
     "exception": false,
     "start_time": "2021-11-15T14:26:09.312702",
     "status": "completed"
    },
    "tags": []
   },
   "outputs": [
    {
     "data": {
      "text/plain": [
       "array([[5.1, 3.8, 1.5, 0.3],\n",
       "       [6.9, 3.1, 5.4, 2.1],\n",
       "       [4.6, 3.6, 1. , 0.2],\n",
       "       [5.8, 2.7, 5.1, 1.9],\n",
       "       [5.1, 3.8, 1.9, 0.4],\n",
       "       [5.6, 2.9, 3.6, 1.3],\n",
       "       [6.3, 2.7, 4.9, 1.8],\n",
       "       [5. , 3.6, 1.4, 0.2],\n",
       "       [5.8, 4. , 1.2, 0.2],\n",
       "       [7.7, 3.8, 6.7, 2.2],\n",
       "       [7.6, 3. , 6.6, 2.1],\n",
       "       [6.4, 3.2, 4.5, 1.5],\n",
       "       [6.1, 2.8, 4. , 1.3],\n",
       "       [6. , 2.7, 5.1, 1.6],\n",
       "       [6.4, 2.8, 5.6, 2.2],\n",
       "       [6.5, 3.2, 5.1, 2. ],\n",
       "       [6.5, 2.8, 4.6, 1.5],\n",
       "       [7.7, 2.6, 6.9, 2.3],\n",
       "       [5.8, 2.7, 3.9, 1.2],\n",
       "       [6.7, 2.5, 5.8, 1.8],\n",
       "       [4.6, 3.4, 1.4, 0.3],\n",
       "       [5.7, 2.6, 3.5, 1. ],\n",
       "       [6.2, 3.4, 5.4, 2.3],\n",
       "       [6.7, 3. , 5.2, 2.3],\n",
       "       [7.3, 2.9, 6.3, 1.8],\n",
       "       [5.4, 3.4, 1.7, 0.2],\n",
       "       [6.3, 2.9, 5.6, 1.8],\n",
       "       [5.7, 4.4, 1.5, 0.4],\n",
       "       [7.2, 3.6, 6.1, 2.5],\n",
       "       [5.7, 2.8, 4.1, 1.3],\n",
       "       [6.6, 2.9, 4.6, 1.3],\n",
       "       [6.7, 3.1, 4.7, 1.5],\n",
       "       [6.3, 2.3, 4.4, 1.3],\n",
       "       [6.7, 3. , 5. , 1.7],\n",
       "       [6.3, 3.4, 5.6, 2.4],\n",
       "       [5.1, 3.8, 1.6, 0.2],\n",
       "       [6. , 3. , 4.8, 1.8],\n",
       "       [6.3, 2.8, 5.1, 1.5],\n",
       "       [5. , 2.3, 3.3, 1. ],\n",
       "       [4.8, 3.1, 1.6, 0.2],\n",
       "       [5. , 3.4, 1.5, 0.2],\n",
       "       [7.4, 2.8, 6.1, 1.9],\n",
       "       [6.4, 2.7, 5.3, 1.9],\n",
       "       [5.7, 2.9, 4.2, 1.3],\n",
       "       [6.3, 3.3, 6. , 2.5],\n",
       "       [7.2, 3. , 5.8, 1.6],\n",
       "       [5.9, 3. , 5.1, 1.8],\n",
       "       [4.9, 2.5, 4.5, 1.7],\n",
       "       [6. , 2.2, 5. , 1.5],\n",
       "       [6.6, 3. , 4.4, 1.4],\n",
       "       [4.6, 3.1, 1.5, 0.2],\n",
       "       [5. , 3.3, 1.4, 0.2],\n",
       "       [5.7, 2.8, 4.5, 1.3],\n",
       "       [5. , 3.2, 1.2, 0.2],\n",
       "       [7.7, 2.8, 6.7, 2. ],\n",
       "       [6.8, 3. , 5.5, 2.1],\n",
       "       [6.7, 3.3, 5.7, 2.5],\n",
       "       [5.2, 4.1, 1.5, 0.1],\n",
       "       [4.8, 3. , 1.4, 0.3],\n",
       "       [5.2, 2.7, 3.9, 1.4],\n",
       "       [5.2, 3.4, 1.4, 0.2],\n",
       "       [5.1, 3.5, 1.4, 0.3],\n",
       "       [7.2, 3.2, 6. , 1.8],\n",
       "       [4.5, 2.3, 1.3, 0.3],\n",
       "       [4.6, 3.2, 1.4, 0.2],\n",
       "       [5.1, 2.5, 3. , 1.1],\n",
       "       [6.7, 3.1, 5.6, 2.4],\n",
       "       [4.7, 3.2, 1.3, 0.2],\n",
       "       [5.8, 2.7, 5.1, 1.9],\n",
       "       [5.5, 3.5, 1.3, 0.2],\n",
       "       [5.4, 3.9, 1.7, 0.4],\n",
       "       [7.7, 3. , 6.1, 2.3],\n",
       "       [4.3, 3. , 1.1, 0.1],\n",
       "       [6.5, 3. , 5.5, 1.8],\n",
       "       [4.9, 3. , 1.4, 0.2],\n",
       "       [4.9, 3.1, 1.5, 0.1],\n",
       "       [6.1, 2.8, 4.7, 1.2],\n",
       "       [5.5, 2.6, 4.4, 1.2],\n",
       "       [6.7, 3.3, 5.7, 2.1],\n",
       "       [5.1, 3.4, 1.5, 0.2],\n",
       "       [7.1, 3. , 5.9, 2.1],\n",
       "       [5.1, 3.5, 1.4, 0.2],\n",
       "       [6.8, 3.2, 5.9, 2.3],\n",
       "       [6.8, 2.8, 4.8, 1.4],\n",
       "       [5.7, 2.5, 5. , 2. ],\n",
       "       [5. , 2. , 3.5, 1. ],\n",
       "       [5.2, 3.5, 1.5, 0.2],\n",
       "       [5.6, 2.8, 4.9, 2. ],\n",
       "       [5.8, 2.6, 4. , 1.2],\n",
       "       [5.6, 3. , 4.5, 1.5],\n",
       "       [5.5, 4.2, 1.4, 0.2],\n",
       "       [5.6, 2.5, 3.9, 1.1],\n",
       "       [6.2, 2.9, 4.3, 1.3],\n",
       "       [5.1, 3.3, 1.7, 0.5],\n",
       "       [5. , 3.5, 1.3, 0.3],\n",
       "       [6. , 3.4, 4.5, 1.6],\n",
       "       [5.9, 3. , 4.2, 1.5],\n",
       "       [6.1, 2.9, 4.7, 1.4],\n",
       "       [6.9, 3.2, 5.7, 2.3],\n",
       "       [5.5, 2.4, 3.7, 1. ],\n",
       "       [4.8, 3.4, 1.6, 0.2],\n",
       "       [6.3, 3.3, 4.7, 1.6],\n",
       "       [6.2, 2.2, 4.5, 1.5],\n",
       "       [4.8, 3. , 1.4, 0.1],\n",
       "       [5.5, 2.4, 3.8, 1.1],\n",
       "       [5.6, 2.7, 4.2, 1.3],\n",
       "       [7. , 3.2, 4.7, 1.4],\n",
       "       [6.4, 2.8, 5.6, 2.1],\n",
       "       [6. , 2.2, 4. , 1. ],\n",
       "       [6.9, 3.1, 5.1, 2.3],\n",
       "       [6.4, 3.1, 5.5, 1.8],\n",
       "       [7.9, 3.8, 6.4, 2. ],\n",
       "       [6.5, 3. , 5.8, 2.2],\n",
       "       [5. , 3.5, 1.6, 0.6],\n",
       "       [6.3, 2.5, 4.9, 1.5],\n",
       "       [6.9, 3.1, 4.9, 1.5],\n",
       "       [6.4, 2.9, 4.3, 1.3],\n",
       "       [6.7, 3.1, 4.4, 1.4],\n",
       "       [6.4, 3.2, 5.3, 2.3],\n",
       "       [5. , 3. , 1.6, 0.2]])"
      ]
     },
     "execution_count": 41,
     "metadata": {},
     "output_type": "execute_result"
    }
   ],
   "source": [
    "x_train"
   ]
  },
  {
   "cell_type": "code",
   "execution_count": 42,
   "id": "5a3d71d2",
   "metadata": {
    "execution": {
     "iopub.execute_input": "2021-11-15T14:26:09.583364Z",
     "iopub.status.busy": "2021-11-15T14:26:09.582574Z",
     "iopub.status.idle": "2021-11-15T14:26:09.587706Z",
     "shell.execute_reply": "2021-11-15T14:26:09.588361Z",
     "shell.execute_reply.started": "2021-11-15T14:25:10.949683Z"
    },
    "papermill": {
     "duration": 0.093236,
     "end_time": "2021-11-15T14:26:09.588559",
     "exception": false,
     "start_time": "2021-11-15T14:26:09.495323",
     "status": "completed"
    },
    "tags": []
   },
   "outputs": [],
   "source": [
    "\n",
    "sc = StandardScaler()\n",
    "x_train = sc.fit_transform(x_train)\n",
    "x_test = sc.transform(x_test)"
   ]
  },
  {
   "cell_type": "code",
   "execution_count": 43,
   "id": "e93315c2",
   "metadata": {
    "execution": {
     "iopub.execute_input": "2021-11-15T14:26:09.760161Z",
     "iopub.status.busy": "2021-11-15T14:26:09.757524Z",
     "iopub.status.idle": "2021-11-15T14:26:09.772808Z",
     "shell.execute_reply": "2021-11-15T14:26:09.773494Z",
     "shell.execute_reply.started": "2021-11-15T14:25:10.961510Z"
    },
    "papermill": {
     "duration": 0.101487,
     "end_time": "2021-11-15T14:26:09.773701",
     "exception": false,
     "start_time": "2021-11-15T14:26:09.672214",
     "status": "completed"
    },
    "tags": []
   },
   "outputs": [
    {
     "data": {
      "text/plain": [
       "array([[-0.99742657,  1.71801777, -1.3676081 , -1.2671429 ],\n",
       "       [ 1.12936651,  0.11631419,  0.83942842,  1.09848256],\n",
       "       [-1.58820243,  1.26038817, -1.6505615 , -1.39856653],\n",
       "       [-0.17034037, -0.798945  ,  0.66965638,  0.83563529],\n",
       "       [-0.99742657,  1.71801777, -1.14124538, -1.13571926],\n",
       "       [-0.40665072, -0.34131541, -0.17920382,  0.04709347],\n",
       "       [ 0.42043549, -0.798945  ,  0.55647502,  0.70421165],\n",
       "       [-1.11558174,  1.26038817, -1.42419878, -1.39856653],\n",
       "       [-0.17034037,  2.17564736, -1.53738014, -1.39856653],\n",
       "       [ 2.07460789,  1.71801777,  1.57510726,  1.2299062 ],\n",
       "       [ 1.95645271, -0.11250061,  1.51851658,  1.09848256],\n",
       "       [ 0.53859066,  0.34512899,  0.3301123 ,  0.30994074],\n",
       "       [ 0.18412514, -0.5701302 ,  0.0471589 ,  0.04709347],\n",
       "       [ 0.06596997, -0.798945  ,  0.66965638,  0.44136438],\n",
       "       [ 0.53859066, -0.5701302 ,  0.95260978,  1.2299062 ],\n",
       "       [ 0.65674583,  0.34512899,  0.66965638,  0.96705893],\n",
       "       [ 0.65674583, -0.5701302 ,  0.38670298,  0.30994074],\n",
       "       [ 2.07460789, -1.0277598 ,  1.68828862,  1.36132984],\n",
       "       [-0.17034037, -0.798945  , -0.00943178, -0.08433017],\n",
       "       [ 0.89305617, -1.25657459,  1.06579114,  0.70421165],\n",
       "       [-1.58820243,  0.80275858, -1.42419878, -1.2671429 ],\n",
       "       [-0.28849554, -1.0277598 , -0.2357945 , -0.34717744],\n",
       "       [ 0.30228031,  0.80275858,  0.83942842,  1.36132984],\n",
       "       [ 0.89305617, -0.11250061,  0.72624706,  1.36132984],\n",
       "       [ 1.6019872 , -0.34131541,  1.34874454,  0.70421165],\n",
       "       [-0.64296106,  0.80275858, -1.25442674, -1.39856653],\n",
       "       [ 0.42043549, -0.34131541,  0.95260978,  0.70421165],\n",
       "       [-0.28849554,  3.09090655, -1.3676081 , -1.13571926],\n",
       "       [ 1.48383203,  1.26038817,  1.23556318,  1.62417711],\n",
       "       [-0.28849554, -0.5701302 ,  0.10374958,  0.04709347],\n",
       "       [ 0.774901  , -0.34131541,  0.38670298,  0.04709347],\n",
       "       [ 0.89305617,  0.11631419,  0.44329366,  0.30994074],\n",
       "       [ 0.42043549, -1.71420419,  0.27352162,  0.04709347],\n",
       "       [ 0.89305617, -0.11250061,  0.6130657 ,  0.57278802],\n",
       "       [ 0.42043549,  0.80275858,  0.95260978,  1.49275347],\n",
       "       [-0.99742657,  1.71801777, -1.31101742, -1.39856653],\n",
       "       [ 0.06596997, -0.11250061,  0.49988434,  0.70421165],\n",
       "       [ 0.42043549, -0.5701302 ,  0.66965638,  0.30994074],\n",
       "       [-1.11558174, -1.71420419, -0.34897586, -0.34717744],\n",
       "       [-1.35189209,  0.11631419, -1.31101742, -1.39856653],\n",
       "       [-1.11558174,  0.80275858, -1.3676081 , -1.39856653],\n",
       "       [ 1.72014237, -0.5701302 ,  1.23556318,  0.83563529],\n",
       "       [ 0.53859066, -0.798945  ,  0.78283774,  0.83563529],\n",
       "       [-0.28849554, -0.34131541,  0.16034026,  0.04709347],\n",
       "       [ 0.42043549,  0.57394378,  1.1789725 ,  1.62417711],\n",
       "       [ 1.48383203, -0.11250061,  1.06579114,  0.44136438],\n",
       "       [-0.0521852 , -0.11250061,  0.66965638,  0.70421165],\n",
       "       [-1.23373692, -1.25657459,  0.3301123 ,  0.57278802],\n",
       "       [ 0.06596997, -1.94301898,  0.6130657 ,  0.30994074],\n",
       "       [ 0.774901  , -0.11250061,  0.27352162,  0.17851711],\n",
       "       [-1.58820243,  0.11631419, -1.3676081 , -1.39856653],\n",
       "       [-1.11558174,  0.57394378, -1.42419878, -1.39856653],\n",
       "       [-0.28849554, -0.5701302 ,  0.3301123 ,  0.04709347],\n",
       "       [-1.11558174,  0.34512899, -1.53738014, -1.39856653],\n",
       "       [ 2.07460789, -0.5701302 ,  1.57510726,  0.96705893],\n",
       "       [ 1.01121134, -0.11250061,  0.8960191 ,  1.09848256],\n",
       "       [ 0.89305617,  0.57394378,  1.00920046,  1.62417711],\n",
       "       [-0.8792714 ,  2.40446216, -1.3676081 , -1.52999017],\n",
       "       [-1.35189209, -0.11250061, -1.42419878, -1.2671429 ],\n",
       "       [-0.8792714 , -0.798945  , -0.00943178,  0.17851711],\n",
       "       [-0.8792714 ,  0.80275858, -1.42419878, -1.39856653],\n",
       "       [-0.99742657,  1.03157338, -1.42419878, -1.2671429 ],\n",
       "       [ 1.48383203,  0.34512899,  1.1789725 ,  0.70421165],\n",
       "       [-1.7063576 , -1.71420419, -1.48078946, -1.2671429 ],\n",
       "       [-1.58820243,  0.34512899, -1.42419878, -1.39856653],\n",
       "       [-0.99742657, -1.25657459, -0.5187479 , -0.2157538 ],\n",
       "       [ 0.89305617,  0.11631419,  0.95260978,  1.49275347],\n",
       "       [-1.47004726,  0.34512899, -1.48078946, -1.39856653],\n",
       "       [-0.17034037, -0.798945  ,  0.66965638,  0.83563529],\n",
       "       [-0.52480589,  1.03157338, -1.48078946, -1.39856653],\n",
       "       [-0.64296106,  1.94683256, -1.25442674, -1.13571926],\n",
       "       [ 2.07460789, -0.11250061,  1.23556318,  1.36132984],\n",
       "       [-1.94266794, -0.11250061, -1.59397082, -1.52999017],\n",
       "       [ 0.65674583, -0.11250061,  0.8960191 ,  0.70421165],\n",
       "       [-1.23373692, -0.11250061, -1.42419878, -1.39856653],\n",
       "       [-1.23373692,  0.11631419, -1.3676081 , -1.52999017],\n",
       "       [ 0.18412514, -0.5701302 ,  0.44329366, -0.08433017],\n",
       "       [-0.52480589, -1.0277598 ,  0.27352162, -0.08433017],\n",
       "       [ 0.89305617,  0.57394378,  1.00920046,  1.09848256],\n",
       "       [-0.99742657,  0.80275858, -1.3676081 , -1.39856653],\n",
       "       [ 1.36567686, -0.11250061,  1.12238182,  1.09848256],\n",
       "       [-0.99742657,  1.03157338, -1.42419878, -1.39856653],\n",
       "       [ 1.01121134,  0.34512899,  1.12238182,  1.36132984],\n",
       "       [ 1.01121134, -0.5701302 ,  0.49988434,  0.17851711],\n",
       "       [-0.28849554, -1.25657459,  0.6130657 ,  0.96705893],\n",
       "       [-1.11558174, -2.40064858, -0.2357945 , -0.34717744],\n",
       "       [-0.8792714 ,  1.03157338, -1.3676081 , -1.39856653],\n",
       "       [-0.40665072, -0.5701302 ,  0.55647502,  0.96705893],\n",
       "       [-0.17034037, -1.0277598 ,  0.0471589 , -0.08433017],\n",
       "       [-0.40665072, -0.11250061,  0.3301123 ,  0.30994074],\n",
       "       [-0.52480589,  2.63327695, -1.42419878, -1.39856653],\n",
       "       [-0.40665072, -1.25657459, -0.00943178, -0.2157538 ],\n",
       "       [ 0.30228031, -0.34131541,  0.21693094,  0.04709347],\n",
       "       [-0.99742657,  0.57394378, -1.25442674, -1.00429562],\n",
       "       [-1.11558174,  1.03157338, -1.48078946, -1.2671429 ],\n",
       "       [ 0.06596997,  0.80275858,  0.3301123 ,  0.44136438],\n",
       "       [-0.0521852 , -0.11250061,  0.16034026,  0.30994074],\n",
       "       [ 0.18412514, -0.34131541,  0.44329366,  0.17851711],\n",
       "       [ 1.12936651,  0.34512899,  1.00920046,  1.36132984],\n",
       "       [-0.52480589, -1.48538939, -0.12261314, -0.34717744],\n",
       "       [-1.35189209,  0.80275858, -1.31101742, -1.39856653],\n",
       "       [ 0.42043549,  0.57394378,  0.44329366,  0.44136438],\n",
       "       [ 0.30228031, -1.94301898,  0.3301123 ,  0.30994074],\n",
       "       [-1.35189209, -0.11250061, -1.42419878, -1.52999017],\n",
       "       [-0.52480589, -1.48538939, -0.06602246, -0.2157538 ],\n",
       "       [-0.40665072, -0.798945  ,  0.16034026,  0.04709347],\n",
       "       [ 1.24752169,  0.34512899,  0.44329366,  0.17851711],\n",
       "       [ 0.53859066, -0.5701302 ,  0.95260978,  1.09848256],\n",
       "       [ 0.06596997, -1.94301898,  0.0471589 , -0.34717744],\n",
       "       [ 1.12936651,  0.11631419,  0.66965638,  1.36132984],\n",
       "       [ 0.53859066,  0.11631419,  0.8960191 ,  0.70421165],\n",
       "       [ 2.31091823,  1.71801777,  1.40533522,  0.96705893],\n",
       "       [ 0.65674583, -0.11250061,  1.06579114,  1.2299062 ],\n",
       "       [-1.11558174,  1.03157338, -1.31101742, -0.87287199],\n",
       "       [ 0.42043549, -1.25657459,  0.55647502,  0.30994074],\n",
       "       [ 1.12936651,  0.11631419,  0.55647502,  0.30994074],\n",
       "       [ 0.53859066, -0.34131541,  0.21693094,  0.04709347],\n",
       "       [ 0.89305617,  0.11631419,  0.27352162,  0.17851711],\n",
       "       [ 0.53859066,  0.34512899,  0.78283774,  1.36132984],\n",
       "       [-1.11558174, -0.11250061, -1.31101742, -1.39856653]])"
      ]
     },
     "execution_count": 43,
     "metadata": {},
     "output_type": "execute_result"
    }
   ],
   "source": [
    "x_train"
   ]
  },
  {
   "cell_type": "markdown",
   "id": "0401edcf",
   "metadata": {
    "papermill": {
     "duration": 0.084357,
     "end_time": "2021-11-15T14:26:09.941452",
     "exception": false,
     "start_time": "2021-11-15T14:26:09.857095",
     "status": "completed"
    },
    "tags": []
   },
   "source": [
    "Naive Bayes classifier"
   ]
  },
  {
   "cell_type": "code",
   "execution_count": 44,
   "id": "4661aa79",
   "metadata": {
    "execution": {
     "iopub.execute_input": "2021-11-15T14:26:10.124272Z",
     "iopub.status.busy": "2021-11-15T14:26:10.123130Z",
     "iopub.status.idle": "2021-11-15T14:26:10.130660Z",
     "shell.execute_reply": "2021-11-15T14:26:10.131291Z",
     "shell.execute_reply.started": "2021-11-15T14:25:10.979546Z"
    },
    "papermill": {
     "duration": 0.104973,
     "end_time": "2021-11-15T14:26:10.131483",
     "exception": false,
     "start_time": "2021-11-15T14:26:10.026510",
     "status": "completed"
    },
    "tags": []
   },
   "outputs": [
    {
     "data": {
      "text/plain": [
       "GaussianNB()"
      ]
     },
     "execution_count": 44,
     "metadata": {},
     "output_type": "execute_result"
    }
   ],
   "source": [
    "class_nb = GaussianNB()\n",
    "class_nb.fit(x_train, y_train)"
   ]
  },
  {
   "cell_type": "code",
   "execution_count": 45,
   "id": "533e8822",
   "metadata": {
    "execution": {
     "iopub.execute_input": "2021-11-15T14:26:10.303699Z",
     "iopub.status.busy": "2021-11-15T14:26:10.302645Z",
     "iopub.status.idle": "2021-11-15T14:26:10.309331Z",
     "shell.execute_reply": "2021-11-15T14:26:10.309953Z",
     "shell.execute_reply.started": "2021-11-15T14:25:10.994497Z"
    },
    "papermill": {
     "duration": 0.094986,
     "end_time": "2021-11-15T14:26:10.310151",
     "exception": false,
     "start_time": "2021-11-15T14:26:10.215165",
     "status": "completed"
    },
    "tags": []
   },
   "outputs": [
    {
     "data": {
      "text/plain": [
       "array(['Iris-versicolor', 'Iris-setosa', 'Iris-setosa', 'Iris-virginica',\n",
       "       'Iris-setosa', 'Iris-virginica', 'Iris-setosa', 'Iris-versicolor',\n",
       "       'Iris-setosa', 'Iris-setosa', 'Iris-virginica', 'Iris-setosa',\n",
       "       'Iris-setosa', 'Iris-setosa', 'Iris-versicolor', 'Iris-setosa',\n",
       "       'Iris-versicolor', 'Iris-versicolor', 'Iris-setosa',\n",
       "       'Iris-virginica', 'Iris-setosa', 'Iris-virginica', 'Iris-setosa',\n",
       "       'Iris-virginica', 'Iris-setosa', 'Iris-versicolor',\n",
       "       'Iris-versicolor', 'Iris-versicolor', 'Iris-versicolor',\n",
       "       'Iris-versicolor'], dtype='<U15')"
      ]
     },
     "execution_count": 45,
     "metadata": {},
     "output_type": "execute_result"
    }
   ],
   "source": [
    "y_pred = class_nb.predict(x_test) \n",
    "y_pred"
   ]
  },
  {
   "cell_type": "code",
   "execution_count": 46,
   "id": "292c14bc",
   "metadata": {
    "execution": {
     "iopub.execute_input": "2021-11-15T14:26:10.483095Z",
     "iopub.status.busy": "2021-11-15T14:26:10.482018Z",
     "iopub.status.idle": "2021-11-15T14:26:10.487976Z",
     "shell.execute_reply": "2021-11-15T14:26:10.488594Z",
     "shell.execute_reply.started": "2021-11-15T14:25:11.003177Z"
    },
    "papermill": {
     "duration": 0.094712,
     "end_time": "2021-11-15T14:26:10.488799",
     "exception": false,
     "start_time": "2021-11-15T14:26:10.394087",
     "status": "completed"
    },
    "tags": []
   },
   "outputs": [
    {
     "data": {
      "text/plain": [
       "array(['Iris-versicolor', 'Iris-setosa', 'Iris-setosa', 'Iris-virginica',\n",
       "       'Iris-setosa', 'Iris-virginica', 'Iris-setosa', 'Iris-versicolor',\n",
       "       'Iris-setosa', 'Iris-setosa'], dtype='<U15')"
      ]
     },
     "execution_count": 46,
     "metadata": {},
     "output_type": "execute_result"
    }
   ],
   "source": [
    "y_pred[:10]"
   ]
  },
  {
   "cell_type": "code",
   "execution_count": 47,
   "id": "0d08fb2c",
   "metadata": {
    "execution": {
     "iopub.execute_input": "2021-11-15T14:26:10.663298Z",
     "iopub.status.busy": "2021-11-15T14:26:10.662254Z",
     "iopub.status.idle": "2021-11-15T14:26:10.668588Z",
     "shell.execute_reply": "2021-11-15T14:26:10.669297Z",
     "shell.execute_reply.started": "2021-11-15T14:25:11.015507Z"
    },
    "papermill": {
     "duration": 0.096335,
     "end_time": "2021-11-15T14:26:10.669519",
     "exception": false,
     "start_time": "2021-11-15T14:26:10.573184",
     "status": "completed"
    },
    "tags": []
   },
   "outputs": [
    {
     "data": {
      "text/plain": [
       "array(['Iris-versicolor', 'Iris-setosa', 'Iris-setosa', 'Iris-virginica',\n",
       "       'Iris-setosa', 'Iris-versicolor', 'Iris-setosa', 'Iris-versicolor',\n",
       "       'Iris-setosa', 'Iris-setosa'], dtype=object)"
      ]
     },
     "execution_count": 47,
     "metadata": {},
     "output_type": "execute_result"
    }
   ],
   "source": [
    "y_test[:10]"
   ]
  },
  {
   "cell_type": "code",
   "execution_count": 48,
   "id": "c23a183d",
   "metadata": {
    "execution": {
     "iopub.execute_input": "2021-11-15T14:26:10.843458Z",
     "iopub.status.busy": "2021-11-15T14:26:10.842350Z",
     "iopub.status.idle": "2021-11-15T14:26:10.847590Z",
     "shell.execute_reply": "2021-11-15T14:26:10.848296Z",
     "shell.execute_reply.started": "2021-11-15T14:25:11.029026Z"
    },
    "papermill": {
     "duration": 0.094391,
     "end_time": "2021-11-15T14:26:10.848515",
     "exception": false,
     "start_time": "2021-11-15T14:26:10.754124",
     "status": "completed"
    },
    "tags": []
   },
   "outputs": [],
   "source": [
    "conc= pd.DataFrame({\"Gerçek Değer\":y_test, 'Model Tahmin Değeri':y_pred})"
   ]
  },
  {
   "cell_type": "code",
   "execution_count": 49,
   "id": "6ba5fa68",
   "metadata": {
    "execution": {
     "iopub.execute_input": "2021-11-15T14:26:11.022094Z",
     "iopub.status.busy": "2021-11-15T14:26:11.021021Z",
     "iopub.status.idle": "2021-11-15T14:26:11.031908Z",
     "shell.execute_reply": "2021-11-15T14:26:11.032515Z",
     "shell.execute_reply.started": "2021-11-15T14:25:11.041123Z"
    },
    "papermill": {
     "duration": 0.099731,
     "end_time": "2021-11-15T14:26:11.032727",
     "exception": false,
     "start_time": "2021-11-15T14:26:10.932996",
     "status": "completed"
    },
    "tags": []
   },
   "outputs": [
    {
     "data": {
      "text/html": [
       "<div>\n",
       "<style scoped>\n",
       "    .dataframe tbody tr th:only-of-type {\n",
       "        vertical-align: middle;\n",
       "    }\n",
       "\n",
       "    .dataframe tbody tr th {\n",
       "        vertical-align: top;\n",
       "    }\n",
       "\n",
       "    .dataframe thead th {\n",
       "        text-align: right;\n",
       "    }\n",
       "</style>\n",
       "<table border=\"1\" class=\"dataframe\">\n",
       "  <thead>\n",
       "    <tr style=\"text-align: right;\">\n",
       "      <th></th>\n",
       "      <th>Gerçek Değer</th>\n",
       "      <th>Model Tahmin Değeri</th>\n",
       "    </tr>\n",
       "  </thead>\n",
       "  <tbody>\n",
       "    <tr>\n",
       "      <th>0</th>\n",
       "      <td>Iris-versicolor</td>\n",
       "      <td>Iris-versicolor</td>\n",
       "    </tr>\n",
       "    <tr>\n",
       "      <th>1</th>\n",
       "      <td>Iris-setosa</td>\n",
       "      <td>Iris-setosa</td>\n",
       "    </tr>\n",
       "    <tr>\n",
       "      <th>2</th>\n",
       "      <td>Iris-setosa</td>\n",
       "      <td>Iris-setosa</td>\n",
       "    </tr>\n",
       "    <tr>\n",
       "      <th>3</th>\n",
       "      <td>Iris-virginica</td>\n",
       "      <td>Iris-virginica</td>\n",
       "    </tr>\n",
       "    <tr>\n",
       "      <th>4</th>\n",
       "      <td>Iris-setosa</td>\n",
       "      <td>Iris-setosa</td>\n",
       "    </tr>\n",
       "    <tr>\n",
       "      <th>5</th>\n",
       "      <td>Iris-versicolor</td>\n",
       "      <td>Iris-virginica</td>\n",
       "    </tr>\n",
       "    <tr>\n",
       "      <th>6</th>\n",
       "      <td>Iris-setosa</td>\n",
       "      <td>Iris-setosa</td>\n",
       "    </tr>\n",
       "    <tr>\n",
       "      <th>7</th>\n",
       "      <td>Iris-versicolor</td>\n",
       "      <td>Iris-versicolor</td>\n",
       "    </tr>\n",
       "    <tr>\n",
       "      <th>8</th>\n",
       "      <td>Iris-setosa</td>\n",
       "      <td>Iris-setosa</td>\n",
       "    </tr>\n",
       "    <tr>\n",
       "      <th>9</th>\n",
       "      <td>Iris-setosa</td>\n",
       "      <td>Iris-setosa</td>\n",
       "    </tr>\n",
       "  </tbody>\n",
       "</table>\n",
       "</div>"
      ],
      "text/plain": [
       "      Gerçek Değer Model Tahmin Değeri\n",
       "0  Iris-versicolor     Iris-versicolor\n",
       "1      Iris-setosa         Iris-setosa\n",
       "2      Iris-setosa         Iris-setosa\n",
       "3   Iris-virginica      Iris-virginica\n",
       "4      Iris-setosa         Iris-setosa\n",
       "5  Iris-versicolor      Iris-virginica\n",
       "6      Iris-setosa         Iris-setosa\n",
       "7  Iris-versicolor     Iris-versicolor\n",
       "8      Iris-setosa         Iris-setosa\n",
       "9      Iris-setosa         Iris-setosa"
      ]
     },
     "execution_count": 49,
     "metadata": {},
     "output_type": "execute_result"
    }
   ],
   "source": [
    "conc[:10]"
   ]
  },
  {
   "cell_type": "code",
   "execution_count": 50,
   "id": "1d0568eb",
   "metadata": {
    "execution": {
     "iopub.execute_input": "2021-11-15T14:26:11.209011Z",
     "iopub.status.busy": "2021-11-15T14:26:11.207963Z",
     "iopub.status.idle": "2021-11-15T14:26:11.213642Z",
     "shell.execute_reply": "2021-11-15T14:26:11.214269Z",
     "shell.execute_reply.started": "2021-11-15T14:25:11.057660Z"
    },
    "papermill": {
     "duration": 0.094923,
     "end_time": "2021-11-15T14:26:11.214465",
     "exception": false,
     "start_time": "2021-11-15T14:26:11.119542",
     "status": "completed"
    },
    "tags": []
   },
   "outputs": [
    {
     "data": {
      "text/plain": [
       "(30, 2)"
      ]
     },
     "execution_count": 50,
     "metadata": {},
     "output_type": "execute_result"
    }
   ],
   "source": [
    "#Veri setini 120/30 böldümüziçin test veri sayımız 30\n",
    "conc.shape"
   ]
  },
  {
   "cell_type": "code",
   "execution_count": 51,
   "id": "04f79de1",
   "metadata": {
    "execution": {
     "iopub.execute_input": "2021-11-15T14:26:11.392606Z",
     "iopub.status.busy": "2021-11-15T14:26:11.391439Z",
     "iopub.status.idle": "2021-11-15T14:26:11.395210Z",
     "shell.execute_reply": "2021-11-15T14:26:11.396077Z",
     "shell.execute_reply.started": "2021-11-15T14:25:11.072462Z"
    },
    "papermill": {
     "duration": 0.097168,
     "end_time": "2021-11-15T14:26:11.396337",
     "exception": false,
     "start_time": "2021-11-15T14:26:11.299169",
     "status": "completed"
    },
    "tags": []
   },
   "outputs": [
    {
     "name": "stdout",
     "output_type": "stream",
     "text": [
      "Tahmin Doğruluğu :  0.9333333333333333\n"
     ]
    }
   ],
   "source": [
    "\n",
    "print (\"Tahmin Doğruluğu : \", accuracy_score(y_test, y_pred))"
   ]
  },
  {
   "cell_type": "markdown",
   "id": "cb6ad8b7",
   "metadata": {
    "papermill": {
     "duration": 0.086756,
     "end_time": "2021-11-15T14:26:11.571567",
     "exception": false,
     "start_time": "2021-11-15T14:26:11.484811",
     "status": "completed"
    },
    "tags": []
   },
   "source": [
    "Decision Tree\n"
   ]
  },
  {
   "cell_type": "code",
   "execution_count": 52,
   "id": "89f92ba5",
   "metadata": {
    "execution": {
     "iopub.execute_input": "2021-11-15T14:26:11.748148Z",
     "iopub.status.busy": "2021-11-15T14:26:11.747378Z",
     "iopub.status.idle": "2021-11-15T14:26:11.756341Z",
     "shell.execute_reply": "2021-11-15T14:26:11.756838Z",
     "shell.execute_reply.started": "2021-11-15T14:25:11.082919Z"
    },
    "papermill": {
     "duration": 0.098939,
     "end_time": "2021-11-15T14:26:11.757092",
     "exception": false,
     "start_time": "2021-11-15T14:26:11.658153",
     "status": "completed"
    },
    "tags": []
   },
   "outputs": [
    {
     "data": {
      "text/plain": [
       "DecisionTreeClassifier()"
      ]
     },
     "execution_count": 52,
     "metadata": {},
     "output_type": "execute_result"
    }
   ],
   "source": [
    "dt=DecisionTreeClassifier()\n",
    "dt.fit(x_train,y_train)"
   ]
  },
  {
   "cell_type": "code",
   "execution_count": 53,
   "id": "33795403",
   "metadata": {
    "execution": {
     "iopub.execute_input": "2021-11-15T14:26:11.939988Z",
     "iopub.status.busy": "2021-11-15T14:26:11.939013Z",
     "iopub.status.idle": "2021-11-15T14:26:11.941225Z",
     "shell.execute_reply": "2021-11-15T14:26:11.941774Z",
     "shell.execute_reply.started": "2021-11-15T14:25:11.096957Z"
    },
    "papermill": {
     "duration": 0.095332,
     "end_time": "2021-11-15T14:26:11.941993",
     "exception": false,
     "start_time": "2021-11-15T14:26:11.846661",
     "status": "completed"
    },
    "tags": []
   },
   "outputs": [],
   "source": [
    "dt_pred=dt.predict(x_test)"
   ]
  },
  {
   "cell_type": "code",
   "execution_count": 54,
   "id": "76141209",
   "metadata": {
    "execution": {
     "iopub.execute_input": "2021-11-15T14:26:12.117693Z",
     "iopub.status.busy": "2021-11-15T14:26:12.117016Z",
     "iopub.status.idle": "2021-11-15T14:26:12.121392Z",
     "shell.execute_reply": "2021-11-15T14:26:12.121879Z",
     "shell.execute_reply.started": "2021-11-15T14:25:11.109642Z"
    },
    "papermill": {
     "duration": 0.092881,
     "end_time": "2021-11-15T14:26:12.122058",
     "exception": false,
     "start_time": "2021-11-15T14:26:12.029177",
     "status": "completed"
    },
    "tags": []
   },
   "outputs": [],
   "source": [
    "dt_conc=pd.DataFrame({\"Gerçek Değer\":dt_pred, \"Model Tahmin Değeri\":dt_pred})"
   ]
  },
  {
   "cell_type": "code",
   "execution_count": 55,
   "id": "5d7d082b",
   "metadata": {
    "execution": {
     "iopub.execute_input": "2021-11-15T14:26:12.293748Z",
     "iopub.status.busy": "2021-11-15T14:26:12.293108Z",
     "iopub.status.idle": "2021-11-15T14:26:12.297374Z",
     "shell.execute_reply": "2021-11-15T14:26:12.297990Z",
     "shell.execute_reply.started": "2021-11-15T14:25:11.121357Z"
    },
    "papermill": {
     "duration": 0.091448,
     "end_time": "2021-11-15T14:26:12.298152",
     "exception": false,
     "start_time": "2021-11-15T14:26:12.206704",
     "status": "completed"
    },
    "tags": []
   },
   "outputs": [
    {
     "data": {
      "text/plain": [
       "array(['Iris-versicolor', 'Iris-setosa', 'Iris-setosa', 'Iris-virginica',\n",
       "       'Iris-setosa', 'Iris-virginica', 'Iris-setosa', 'Iris-versicolor',\n",
       "       'Iris-setosa', 'Iris-setosa', 'Iris-virginica', 'Iris-setosa',\n",
       "       'Iris-setosa', 'Iris-setosa', 'Iris-versicolor', 'Iris-setosa',\n",
       "       'Iris-versicolor', 'Iris-virginica', 'Iris-setosa',\n",
       "       'Iris-virginica', 'Iris-setosa', 'Iris-virginica', 'Iris-setosa',\n",
       "       'Iris-virginica', 'Iris-setosa', 'Iris-versicolor',\n",
       "       'Iris-virginica', 'Iris-versicolor', 'Iris-versicolor',\n",
       "       'Iris-versicolor'], dtype=object)"
      ]
     },
     "execution_count": 55,
     "metadata": {},
     "output_type": "execute_result"
    }
   ],
   "source": [
    "dt_pred"
   ]
  },
  {
   "cell_type": "code",
   "execution_count": 56,
   "id": "58e6babf",
   "metadata": {
    "execution": {
     "iopub.execute_input": "2021-11-15T14:26:12.472958Z",
     "iopub.status.busy": "2021-11-15T14:26:12.472287Z",
     "iopub.status.idle": "2021-11-15T14:26:12.474388Z",
     "shell.execute_reply": "2021-11-15T14:26:12.474987Z",
     "shell.execute_reply.started": "2021-11-15T14:25:11.136309Z"
    },
    "papermill": {
     "duration": 0.092413,
     "end_time": "2021-11-15T14:26:12.475152",
     "exception": false,
     "start_time": "2021-11-15T14:26:12.382739",
     "status": "completed"
    },
    "tags": []
   },
   "outputs": [],
   "source": [
    "dt_conc=pd.DataFrame({\"Gerçek Değer\":dt_pred, \"Model Tahmin Değeri\":dt_pred})"
   ]
  },
  {
   "cell_type": "code",
   "execution_count": 57,
   "id": "82f6cacb",
   "metadata": {
    "execution": {
     "iopub.execute_input": "2021-11-15T14:26:12.648733Z",
     "iopub.status.busy": "2021-11-15T14:26:12.648067Z",
     "iopub.status.idle": "2021-11-15T14:26:12.658761Z",
     "shell.execute_reply": "2021-11-15T14:26:12.659342Z",
     "shell.execute_reply.started": "2021-11-15T14:25:11.147207Z"
    },
    "papermill": {
     "duration": 0.099402,
     "end_time": "2021-11-15T14:26:12.659507",
     "exception": false,
     "start_time": "2021-11-15T14:26:12.560105",
     "status": "completed"
    },
    "tags": []
   },
   "outputs": [
    {
     "data": {
      "text/html": [
       "<div>\n",
       "<style scoped>\n",
       "    .dataframe tbody tr th:only-of-type {\n",
       "        vertical-align: middle;\n",
       "    }\n",
       "\n",
       "    .dataframe tbody tr th {\n",
       "        vertical-align: top;\n",
       "    }\n",
       "\n",
       "    .dataframe thead th {\n",
       "        text-align: right;\n",
       "    }\n",
       "</style>\n",
       "<table border=\"1\" class=\"dataframe\">\n",
       "  <thead>\n",
       "    <tr style=\"text-align: right;\">\n",
       "      <th></th>\n",
       "      <th>Gerçek Değer</th>\n",
       "      <th>Model Tahmin Değeri</th>\n",
       "    </tr>\n",
       "  </thead>\n",
       "  <tbody>\n",
       "    <tr>\n",
       "      <th>0</th>\n",
       "      <td>Iris-versicolor</td>\n",
       "      <td>Iris-versicolor</td>\n",
       "    </tr>\n",
       "    <tr>\n",
       "      <th>1</th>\n",
       "      <td>Iris-setosa</td>\n",
       "      <td>Iris-setosa</td>\n",
       "    </tr>\n",
       "    <tr>\n",
       "      <th>2</th>\n",
       "      <td>Iris-setosa</td>\n",
       "      <td>Iris-setosa</td>\n",
       "    </tr>\n",
       "    <tr>\n",
       "      <th>3</th>\n",
       "      <td>Iris-virginica</td>\n",
       "      <td>Iris-virginica</td>\n",
       "    </tr>\n",
       "    <tr>\n",
       "      <th>4</th>\n",
       "      <td>Iris-setosa</td>\n",
       "      <td>Iris-setosa</td>\n",
       "    </tr>\n",
       "    <tr>\n",
       "      <th>5</th>\n",
       "      <td>Iris-virginica</td>\n",
       "      <td>Iris-virginica</td>\n",
       "    </tr>\n",
       "    <tr>\n",
       "      <th>6</th>\n",
       "      <td>Iris-setosa</td>\n",
       "      <td>Iris-setosa</td>\n",
       "    </tr>\n",
       "    <tr>\n",
       "      <th>7</th>\n",
       "      <td>Iris-versicolor</td>\n",
       "      <td>Iris-versicolor</td>\n",
       "    </tr>\n",
       "    <tr>\n",
       "      <th>8</th>\n",
       "      <td>Iris-setosa</td>\n",
       "      <td>Iris-setosa</td>\n",
       "    </tr>\n",
       "    <tr>\n",
       "      <th>9</th>\n",
       "      <td>Iris-setosa</td>\n",
       "      <td>Iris-setosa</td>\n",
       "    </tr>\n",
       "    <tr>\n",
       "      <th>10</th>\n",
       "      <td>Iris-virginica</td>\n",
       "      <td>Iris-virginica</td>\n",
       "    </tr>\n",
       "    <tr>\n",
       "      <th>11</th>\n",
       "      <td>Iris-setosa</td>\n",
       "      <td>Iris-setosa</td>\n",
       "    </tr>\n",
       "    <tr>\n",
       "      <th>12</th>\n",
       "      <td>Iris-setosa</td>\n",
       "      <td>Iris-setosa</td>\n",
       "    </tr>\n",
       "    <tr>\n",
       "      <th>13</th>\n",
       "      <td>Iris-setosa</td>\n",
       "      <td>Iris-setosa</td>\n",
       "    </tr>\n",
       "    <tr>\n",
       "      <th>14</th>\n",
       "      <td>Iris-versicolor</td>\n",
       "      <td>Iris-versicolor</td>\n",
       "    </tr>\n",
       "    <tr>\n",
       "      <th>15</th>\n",
       "      <td>Iris-setosa</td>\n",
       "      <td>Iris-setosa</td>\n",
       "    </tr>\n",
       "    <tr>\n",
       "      <th>16</th>\n",
       "      <td>Iris-versicolor</td>\n",
       "      <td>Iris-versicolor</td>\n",
       "    </tr>\n",
       "    <tr>\n",
       "      <th>17</th>\n",
       "      <td>Iris-virginica</td>\n",
       "      <td>Iris-virginica</td>\n",
       "    </tr>\n",
       "    <tr>\n",
       "      <th>18</th>\n",
       "      <td>Iris-setosa</td>\n",
       "      <td>Iris-setosa</td>\n",
       "    </tr>\n",
       "    <tr>\n",
       "      <th>19</th>\n",
       "      <td>Iris-virginica</td>\n",
       "      <td>Iris-virginica</td>\n",
       "    </tr>\n",
       "    <tr>\n",
       "      <th>20</th>\n",
       "      <td>Iris-setosa</td>\n",
       "      <td>Iris-setosa</td>\n",
       "    </tr>\n",
       "    <tr>\n",
       "      <th>21</th>\n",
       "      <td>Iris-virginica</td>\n",
       "      <td>Iris-virginica</td>\n",
       "    </tr>\n",
       "    <tr>\n",
       "      <th>22</th>\n",
       "      <td>Iris-setosa</td>\n",
       "      <td>Iris-setosa</td>\n",
       "    </tr>\n",
       "    <tr>\n",
       "      <th>23</th>\n",
       "      <td>Iris-virginica</td>\n",
       "      <td>Iris-virginica</td>\n",
       "    </tr>\n",
       "    <tr>\n",
       "      <th>24</th>\n",
       "      <td>Iris-setosa</td>\n",
       "      <td>Iris-setosa</td>\n",
       "    </tr>\n",
       "    <tr>\n",
       "      <th>25</th>\n",
       "      <td>Iris-versicolor</td>\n",
       "      <td>Iris-versicolor</td>\n",
       "    </tr>\n",
       "    <tr>\n",
       "      <th>26</th>\n",
       "      <td>Iris-virginica</td>\n",
       "      <td>Iris-virginica</td>\n",
       "    </tr>\n",
       "    <tr>\n",
       "      <th>27</th>\n",
       "      <td>Iris-versicolor</td>\n",
       "      <td>Iris-versicolor</td>\n",
       "    </tr>\n",
       "    <tr>\n",
       "      <th>28</th>\n",
       "      <td>Iris-versicolor</td>\n",
       "      <td>Iris-versicolor</td>\n",
       "    </tr>\n",
       "    <tr>\n",
       "      <th>29</th>\n",
       "      <td>Iris-versicolor</td>\n",
       "      <td>Iris-versicolor</td>\n",
       "    </tr>\n",
       "  </tbody>\n",
       "</table>\n",
       "</div>"
      ],
      "text/plain": [
       "       Gerçek Değer Model Tahmin Değeri\n",
       "0   Iris-versicolor     Iris-versicolor\n",
       "1       Iris-setosa         Iris-setosa\n",
       "2       Iris-setosa         Iris-setosa\n",
       "3    Iris-virginica      Iris-virginica\n",
       "4       Iris-setosa         Iris-setosa\n",
       "5    Iris-virginica      Iris-virginica\n",
       "6       Iris-setosa         Iris-setosa\n",
       "7   Iris-versicolor     Iris-versicolor\n",
       "8       Iris-setosa         Iris-setosa\n",
       "9       Iris-setosa         Iris-setosa\n",
       "10   Iris-virginica      Iris-virginica\n",
       "11      Iris-setosa         Iris-setosa\n",
       "12      Iris-setosa         Iris-setosa\n",
       "13      Iris-setosa         Iris-setosa\n",
       "14  Iris-versicolor     Iris-versicolor\n",
       "15      Iris-setosa         Iris-setosa\n",
       "16  Iris-versicolor     Iris-versicolor\n",
       "17   Iris-virginica      Iris-virginica\n",
       "18      Iris-setosa         Iris-setosa\n",
       "19   Iris-virginica      Iris-virginica\n",
       "20      Iris-setosa         Iris-setosa\n",
       "21   Iris-virginica      Iris-virginica\n",
       "22      Iris-setosa         Iris-setosa\n",
       "23   Iris-virginica      Iris-virginica\n",
       "24      Iris-setosa         Iris-setosa\n",
       "25  Iris-versicolor     Iris-versicolor\n",
       "26   Iris-virginica      Iris-virginica\n",
       "27  Iris-versicolor     Iris-versicolor\n",
       "28  Iris-versicolor     Iris-versicolor\n",
       "29  Iris-versicolor     Iris-versicolor"
      ]
     },
     "execution_count": 57,
     "metadata": {},
     "output_type": "execute_result"
    }
   ],
   "source": [
    "dt_conc"
   ]
  },
  {
   "cell_type": "code",
   "execution_count": 58,
   "id": "c0ebe0ca",
   "metadata": {
    "execution": {
     "iopub.execute_input": "2021-11-15T14:26:12.833958Z",
     "iopub.status.busy": "2021-11-15T14:26:12.833276Z",
     "iopub.status.idle": "2021-11-15T14:26:12.841187Z",
     "shell.execute_reply": "2021-11-15T14:26:12.840458Z",
     "shell.execute_reply.started": "2021-11-15T14:25:11.165776Z"
    },
    "papermill": {
     "duration": 0.095799,
     "end_time": "2021-11-15T14:26:12.841374",
     "exception": false,
     "start_time": "2021-11-15T14:26:12.745575",
     "status": "completed"
    },
    "tags": []
   },
   "outputs": [
    {
     "name": "stdout",
     "output_type": "stream",
     "text": [
      "Tahmin Doğruluğu :  0.9333333333333333\n"
     ]
    }
   ],
   "source": [
    "print (\"Tahmin Doğruluğu : \", accuracy_score(y_test, dt_pred))"
   ]
  },
  {
   "cell_type": "code",
   "execution_count": 59,
   "id": "25605427",
   "metadata": {
    "execution": {
     "iopub.execute_input": "2021-11-15T14:26:13.025197Z",
     "iopub.status.busy": "2021-11-15T14:26:13.024517Z",
     "iopub.status.idle": "2021-11-15T14:26:13.895829Z",
     "shell.execute_reply": "2021-11-15T14:26:13.895028Z",
     "shell.execute_reply.started": "2021-11-15T14:25:11.173649Z"
    },
    "papermill": {
     "duration": 0.967814,
     "end_time": "2021-11-15T14:26:13.896006",
     "exception": false,
     "start_time": "2021-11-15T14:26:12.928192",
     "status": "completed"
    },
    "tags": []
   },
   "outputs": [
    {
     "data": {
      "text/plain": [
       "[Text(148.8, 199.32, 'X[3] <= -0.61\\ngini = 0.664\\nsamples = 120\\nvalue = [36, 40, 44]'),\n",
       " Text(111.60000000000001, 163.07999999999998, 'gini = 0.0\\nsamples = 36\\nvalue = [36, 0, 0]'),\n",
       " Text(186.0, 163.07999999999998, 'X[3] <= 0.638\\ngini = 0.499\\nsamples = 84\\nvalue = [0, 40, 44]'),\n",
       " Text(148.8, 126.83999999999999, 'X[2] <= 0.585\\ngini = 0.165\\nsamples = 44\\nvalue = [0, 40, 4]'),\n",
       " Text(74.4, 90.6, 'X[0] <= -1.175\\ngini = 0.05\\nsamples = 39\\nvalue = [0, 38, 1]'),\n",
       " Text(37.2, 54.359999999999985, 'gini = 0.0\\nsamples = 1\\nvalue = [0, 0, 1]'),\n",
       " Text(111.60000000000001, 54.359999999999985, 'gini = 0.0\\nsamples = 38\\nvalue = [0, 38, 0]'),\n",
       " Text(223.20000000000002, 90.6, 'X[3] <= 0.376\\ngini = 0.48\\nsamples = 5\\nvalue = [0, 2, 3]'),\n",
       " Text(186.0, 54.359999999999985, 'gini = 0.0\\nsamples = 2\\nvalue = [0, 0, 2]'),\n",
       " Text(260.40000000000003, 54.359999999999985, 'X[0] <= 1.188\\ngini = 0.444\\nsamples = 3\\nvalue = [0, 2, 1]'),\n",
       " Text(223.20000000000002, 18.119999999999976, 'gini = 0.0\\nsamples = 2\\nvalue = [0, 2, 0]'),\n",
       " Text(297.6, 18.119999999999976, 'gini = 0.0\\nsamples = 1\\nvalue = [0, 0, 1]'),\n",
       " Text(223.20000000000002, 126.83999999999999, 'gini = 0.0\\nsamples = 40\\nvalue = [0, 0, 40]')]"
      ]
     },
     "execution_count": 59,
     "metadata": {},
     "output_type": "execute_result"
    },
    {
     "data": {
      "image/png": "[encoded data removed]",
      "text/plain": [
       "<Figure size 432x288 with 1 Axes>"
      ]
     },
     "metadata": {
      "needs_background": "light"
     },
     "output_type": "display_data"
    }
   ],
   "source": [
    "tree.plot_tree(dt)"
   ]
  },
  {
   "cell_type": "markdown",
   "id": "c9bbf66c",
   "metadata": {
    "papermill": {
     "duration": 0.095038,
     "end_time": "2021-11-15T14:26:14.079033",
     "exception": false,
     "start_time": "2021-11-15T14:26:13.983995",
     "status": "completed"
    },
    "tags": []
   },
   "source": [
    "Random Forest"
   ]
  },
  {
   "cell_type": "code",
   "execution_count": 60,
   "id": "8b0e3f19",
   "metadata": {
    "execution": {
     "iopub.execute_input": "2021-11-15T14:26:14.286192Z",
     "iopub.status.busy": "2021-11-15T14:26:14.285441Z",
     "iopub.status.idle": "2021-11-15T14:26:14.475775Z",
     "shell.execute_reply": "2021-11-15T14:26:14.475249Z",
     "shell.execute_reply.started": "2021-11-15T14:25:12.051842Z"
    },
    "papermill": {
     "duration": 0.283535,
     "end_time": "2021-11-15T14:26:14.475945",
     "exception": false,
     "start_time": "2021-11-15T14:26:14.192410",
     "status": "completed"
    },
    "tags": []
   },
   "outputs": [
    {
     "data": {
      "text/plain": [
       "RandomForestClassifier(criterion='entropy', random_state=0)"
      ]
     },
     "execution_count": 60,
     "metadata": {},
     "output_type": "execute_result"
    }
   ],
   "source": [
    "classifier = RandomForestClassifier(n_estimators = 100, criterion = 'entropy', random_state = 0)\n",
    "classifier.fit(x_train, y_train)"
   ]
  },
  {
   "cell_type": "code",
   "execution_count": 61,
   "id": "52a8309e",
   "metadata": {
    "execution": {
     "iopub.execute_input": "2021-11-15T14:26:14.661115Z",
     "iopub.status.busy": "2021-11-15T14:26:14.660428Z",
     "iopub.status.idle": "2021-11-15T14:26:14.674821Z",
     "shell.execute_reply": "2021-11-15T14:26:14.674101Z",
     "shell.execute_reply.started": "2021-11-15T14:25:12.196202Z"
    },
    "papermill": {
     "duration": 0.107946,
     "end_time": "2021-11-15T14:26:14.674992",
     "exception": false,
     "start_time": "2021-11-15T14:26:14.567046",
     "status": "completed"
    },
    "tags": []
   },
   "outputs": [],
   "source": [
    "rf_pred = classifier.predict(x_test)"
   ]
  },
  {
   "cell_type": "code",
   "execution_count": 62,
   "id": "c4d34757",
   "metadata": {
    "execution": {
     "iopub.execute_input": "2021-11-15T14:26:14.860213Z",
     "iopub.status.busy": "2021-11-15T14:26:14.859451Z",
     "iopub.status.idle": "2021-11-15T14:26:14.864436Z",
     "shell.execute_reply": "2021-11-15T14:26:14.865002Z",
     "shell.execute_reply.started": "2021-11-15T14:25:12.215154Z"
    },
    "papermill": {
     "duration": 0.098784,
     "end_time": "2021-11-15T14:26:14.865211",
     "exception": false,
     "start_time": "2021-11-15T14:26:14.766427",
     "status": "completed"
    },
    "tags": []
   },
   "outputs": [
    {
     "data": {
      "text/plain": [
       "array(['Iris-versicolor', 'Iris-setosa', 'Iris-setosa', 'Iris-virginica',\n",
       "       'Iris-setosa', 'Iris-virginica', 'Iris-setosa', 'Iris-versicolor',\n",
       "       'Iris-setosa', 'Iris-setosa', 'Iris-virginica', 'Iris-setosa',\n",
       "       'Iris-setosa', 'Iris-setosa', 'Iris-versicolor', 'Iris-setosa',\n",
       "       'Iris-versicolor', 'Iris-versicolor', 'Iris-setosa',\n",
       "       'Iris-virginica', 'Iris-setosa', 'Iris-virginica', 'Iris-setosa',\n",
       "       'Iris-virginica', 'Iris-setosa', 'Iris-versicolor',\n",
       "       'Iris-versicolor', 'Iris-versicolor', 'Iris-versicolor',\n",
       "       'Iris-versicolor'], dtype=object)"
      ]
     },
     "execution_count": 62,
     "metadata": {},
     "output_type": "execute_result"
    }
   ],
   "source": [
    "rf_pred"
   ]
  },
  {
   "cell_type": "code",
   "execution_count": 63,
   "id": "2372c2d2",
   "metadata": {
    "execution": {
     "iopub.execute_input": "2021-11-15T14:26:15.051115Z",
     "iopub.status.busy": "2021-11-15T14:26:15.050427Z",
     "iopub.status.idle": "2021-11-15T14:26:15.054798Z",
     "shell.execute_reply": "2021-11-15T14:26:15.055370Z",
     "shell.execute_reply.started": "2021-11-15T14:25:12.222735Z"
    },
    "papermill": {
     "duration": 0.099518,
     "end_time": "2021-11-15T14:26:15.055533",
     "exception": false,
     "start_time": "2021-11-15T14:26:14.956015",
     "status": "completed"
    },
    "tags": []
   },
   "outputs": [],
   "source": [
    "rf_con= pd.DataFrame({\"Gerçek Değer\":y_test, 'Model Tahmin Değeri':rf_pred})"
   ]
  },
  {
   "cell_type": "code",
   "execution_count": 64,
   "id": "492884c9",
   "metadata": {
    "execution": {
     "iopub.execute_input": "2021-11-15T14:26:15.242552Z",
     "iopub.status.busy": "2021-11-15T14:26:15.241684Z",
     "iopub.status.idle": "2021-11-15T14:26:15.245132Z",
     "shell.execute_reply": "2021-11-15T14:26:15.245616Z",
     "shell.execute_reply.started": "2021-11-15T14:25:12.232607Z"
    },
    "papermill": {
     "duration": 0.101857,
     "end_time": "2021-11-15T14:26:15.245778",
     "exception": false,
     "start_time": "2021-11-15T14:26:15.143921",
     "status": "completed"
    },
    "tags": []
   },
   "outputs": [
    {
     "data": {
      "text/html": [
       "<div>\n",
       "<style scoped>\n",
       "    .dataframe tbody tr th:only-of-type {\n",
       "        vertical-align: middle;\n",
       "    }\n",
       "\n",
       "    .dataframe tbody tr th {\n",
       "        vertical-align: top;\n",
       "    }\n",
       "\n",
       "    .dataframe thead th {\n",
       "        text-align: right;\n",
       "    }\n",
       "</style>\n",
       "<table border=\"1\" class=\"dataframe\">\n",
       "  <thead>\n",
       "    <tr style=\"text-align: right;\">\n",
       "      <th></th>\n",
       "      <th>Gerçek Değer</th>\n",
       "      <th>Model Tahmin Değeri</th>\n",
       "    </tr>\n",
       "  </thead>\n",
       "  <tbody>\n",
       "    <tr>\n",
       "      <th>0</th>\n",
       "      <td>Iris-versicolor</td>\n",
       "      <td>Iris-versicolor</td>\n",
       "    </tr>\n",
       "    <tr>\n",
       "      <th>1</th>\n",
       "      <td>Iris-setosa</td>\n",
       "      <td>Iris-setosa</td>\n",
       "    </tr>\n",
       "    <tr>\n",
       "      <th>2</th>\n",
       "      <td>Iris-setosa</td>\n",
       "      <td>Iris-setosa</td>\n",
       "    </tr>\n",
       "    <tr>\n",
       "      <th>3</th>\n",
       "      <td>Iris-virginica</td>\n",
       "      <td>Iris-virginica</td>\n",
       "    </tr>\n",
       "    <tr>\n",
       "      <th>4</th>\n",
       "      <td>Iris-setosa</td>\n",
       "      <td>Iris-setosa</td>\n",
       "    </tr>\n",
       "    <tr>\n",
       "      <th>5</th>\n",
       "      <td>Iris-versicolor</td>\n",
       "      <td>Iris-virginica</td>\n",
       "    </tr>\n",
       "    <tr>\n",
       "      <th>6</th>\n",
       "      <td>Iris-setosa</td>\n",
       "      <td>Iris-setosa</td>\n",
       "    </tr>\n",
       "    <tr>\n",
       "      <th>7</th>\n",
       "      <td>Iris-versicolor</td>\n",
       "      <td>Iris-versicolor</td>\n",
       "    </tr>\n",
       "    <tr>\n",
       "      <th>8</th>\n",
       "      <td>Iris-setosa</td>\n",
       "      <td>Iris-setosa</td>\n",
       "    </tr>\n",
       "    <tr>\n",
       "      <th>9</th>\n",
       "      <td>Iris-setosa</td>\n",
       "      <td>Iris-setosa</td>\n",
       "    </tr>\n",
       "    <tr>\n",
       "      <th>10</th>\n",
       "      <td>Iris-virginica</td>\n",
       "      <td>Iris-virginica</td>\n",
       "    </tr>\n",
       "    <tr>\n",
       "      <th>11</th>\n",
       "      <td>Iris-setosa</td>\n",
       "      <td>Iris-setosa</td>\n",
       "    </tr>\n",
       "    <tr>\n",
       "      <th>12</th>\n",
       "      <td>Iris-setosa</td>\n",
       "      <td>Iris-setosa</td>\n",
       "    </tr>\n",
       "    <tr>\n",
       "      <th>13</th>\n",
       "      <td>Iris-setosa</td>\n",
       "      <td>Iris-setosa</td>\n",
       "    </tr>\n",
       "    <tr>\n",
       "      <th>14</th>\n",
       "      <td>Iris-versicolor</td>\n",
       "      <td>Iris-versicolor</td>\n",
       "    </tr>\n",
       "    <tr>\n",
       "      <th>15</th>\n",
       "      <td>Iris-setosa</td>\n",
       "      <td>Iris-setosa</td>\n",
       "    </tr>\n",
       "    <tr>\n",
       "      <th>16</th>\n",
       "      <td>Iris-versicolor</td>\n",
       "      <td>Iris-versicolor</td>\n",
       "    </tr>\n",
       "    <tr>\n",
       "      <th>17</th>\n",
       "      <td>Iris-versicolor</td>\n",
       "      <td>Iris-versicolor</td>\n",
       "    </tr>\n",
       "    <tr>\n",
       "      <th>18</th>\n",
       "      <td>Iris-setosa</td>\n",
       "      <td>Iris-setosa</td>\n",
       "    </tr>\n",
       "    <tr>\n",
       "      <th>19</th>\n",
       "      <td>Iris-virginica</td>\n",
       "      <td>Iris-virginica</td>\n",
       "    </tr>\n",
       "    <tr>\n",
       "      <th>20</th>\n",
       "      <td>Iris-setosa</td>\n",
       "      <td>Iris-setosa</td>\n",
       "    </tr>\n",
       "    <tr>\n",
       "      <th>21</th>\n",
       "      <td>Iris-virginica</td>\n",
       "      <td>Iris-virginica</td>\n",
       "    </tr>\n",
       "    <tr>\n",
       "      <th>22</th>\n",
       "      <td>Iris-setosa</td>\n",
       "      <td>Iris-setosa</td>\n",
       "    </tr>\n",
       "    <tr>\n",
       "      <th>23</th>\n",
       "      <td>Iris-virginica</td>\n",
       "      <td>Iris-virginica</td>\n",
       "    </tr>\n",
       "    <tr>\n",
       "      <th>24</th>\n",
       "      <td>Iris-setosa</td>\n",
       "      <td>Iris-setosa</td>\n",
       "    </tr>\n",
       "    <tr>\n",
       "      <th>25</th>\n",
       "      <td>Iris-versicolor</td>\n",
       "      <td>Iris-versicolor</td>\n",
       "    </tr>\n",
       "    <tr>\n",
       "      <th>26</th>\n",
       "      <td>Iris-virginica</td>\n",
       "      <td>Iris-versicolor</td>\n",
       "    </tr>\n",
       "    <tr>\n",
       "      <th>27</th>\n",
       "      <td>Iris-versicolor</td>\n",
       "      <td>Iris-versicolor</td>\n",
       "    </tr>\n",
       "    <tr>\n",
       "      <th>28</th>\n",
       "      <td>Iris-versicolor</td>\n",
       "      <td>Iris-versicolor</td>\n",
       "    </tr>\n",
       "    <tr>\n",
       "      <th>29</th>\n",
       "      <td>Iris-versicolor</td>\n",
       "      <td>Iris-versicolor</td>\n",
       "    </tr>\n",
       "  </tbody>\n",
       "</table>\n",
       "</div>"
      ],
      "text/plain": [
       "       Gerçek Değer Model Tahmin Değeri\n",
       "0   Iris-versicolor     Iris-versicolor\n",
       "1       Iris-setosa         Iris-setosa\n",
       "2       Iris-setosa         Iris-setosa\n",
       "3    Iris-virginica      Iris-virginica\n",
       "4       Iris-setosa         Iris-setosa\n",
       "5   Iris-versicolor      Iris-virginica\n",
       "6       Iris-setosa         Iris-setosa\n",
       "7   Iris-versicolor     Iris-versicolor\n",
       "8       Iris-setosa         Iris-setosa\n",
       "9       Iris-setosa         Iris-setosa\n",
       "10   Iris-virginica      Iris-virginica\n",
       "11      Iris-setosa         Iris-setosa\n",
       "12      Iris-setosa         Iris-setosa\n",
       "13      Iris-setosa         Iris-setosa\n",
       "14  Iris-versicolor     Iris-versicolor\n",
       "15      Iris-setosa         Iris-setosa\n",
       "16  Iris-versicolor     Iris-versicolor\n",
       "17  Iris-versicolor     Iris-versicolor\n",
       "18      Iris-setosa         Iris-setosa\n",
       "19   Iris-virginica      Iris-virginica\n",
       "20      Iris-setosa         Iris-setosa\n",
       "21   Iris-virginica      Iris-virginica\n",
       "22      Iris-setosa         Iris-setosa\n",
       "23   Iris-virginica      Iris-virginica\n",
       "24      Iris-setosa         Iris-setosa\n",
       "25  Iris-versicolor     Iris-versicolor\n",
       "26   Iris-virginica     Iris-versicolor\n",
       "27  Iris-versicolor     Iris-versicolor\n",
       "28  Iris-versicolor     Iris-versicolor\n",
       "29  Iris-versicolor     Iris-versicolor"
      ]
     },
     "execution_count": 64,
     "metadata": {},
     "output_type": "execute_result"
    }
   ],
   "source": [
    "rf_con"
   ]
  },
  {
   "cell_type": "code",
   "execution_count": 65,
   "id": "8bb3295d",
   "metadata": {
    "execution": {
     "iopub.execute_input": "2021-11-15T14:26:15.425878Z",
     "iopub.status.busy": "2021-11-15T14:26:15.425235Z",
     "iopub.status.idle": "2021-11-15T14:26:15.431199Z",
     "shell.execute_reply": "2021-11-15T14:26:15.431701Z",
     "shell.execute_reply.started": "2021-11-15T14:25:12.251396Z"
    },
    "papermill": {
     "duration": 0.097732,
     "end_time": "2021-11-15T14:26:15.431888",
     "exception": false,
     "start_time": "2021-11-15T14:26:15.334156",
     "status": "completed"
    },
    "tags": []
   },
   "outputs": [
    {
     "name": "stdout",
     "output_type": "stream",
     "text": [
      "Tahmin Doğruluğu :  0.9333333333333333\n"
     ]
    }
   ],
   "source": [
    "print (\"Tahmin Doğruluğu : \", accuracy_score(y_test, rf_pred))"
   ]
  },
  {
   "cell_type": "code",
   "execution_count": 66,
   "id": "c2138de0",
   "metadata": {
    "execution": {
     "iopub.execute_input": "2021-11-15T14:26:15.616429Z",
     "iopub.status.busy": "2021-11-15T14:26:15.613971Z",
     "iopub.status.idle": "2021-11-15T14:26:15.618553Z",
     "shell.execute_reply": "2021-11-15T14:26:15.619132Z",
     "shell.execute_reply.started": "2021-11-15T14:25:12.258171Z"
    },
    "papermill": {
     "duration": 0.097975,
     "end_time": "2021-11-15T14:26:15.619297",
     "exception": false,
     "start_time": "2021-11-15T14:26:15.521322",
     "status": "completed"
    },
    "tags": []
   },
   "outputs": [],
   "source": [
    "final= pd.DataFrame({\"Gerçek Değer\":y_test,\"Navie Bayes\":y_pred, \"Decision Forest\":dt_pred, 'Random Forest':rf_pred})"
   ]
  },
  {
   "cell_type": "code",
   "execution_count": 67,
   "id": "42a1fb4a",
   "metadata": {
    "execution": {
     "iopub.execute_input": "2021-11-15T14:26:15.802399Z",
     "iopub.status.busy": "2021-11-15T14:26:15.801699Z",
     "iopub.status.idle": "2021-11-15T14:26:15.815816Z",
     "shell.execute_reply": "2021-11-15T14:26:15.815317Z",
     "shell.execute_reply.started": "2021-11-15T14:25:12.268871Z"
    },
    "papermill": {
     "duration": 0.106355,
     "end_time": "2021-11-15T14:26:15.815982",
     "exception": false,
     "start_time": "2021-11-15T14:26:15.709627",
     "status": "completed"
    },
    "tags": []
   },
   "outputs": [
    {
     "data": {
      "text/html": [
       "<div>\n",
       "<style scoped>\n",
       "    .dataframe tbody tr th:only-of-type {\n",
       "        vertical-align: middle;\n",
       "    }\n",
       "\n",
       "    .dataframe tbody tr th {\n",
       "        vertical-align: top;\n",
       "    }\n",
       "\n",
       "    .dataframe thead th {\n",
       "        text-align: right;\n",
       "    }\n",
       "</style>\n",
       "<table border=\"1\" class=\"dataframe\">\n",
       "  <thead>\n",
       "    <tr style=\"text-align: right;\">\n",
       "      <th></th>\n",
       "      <th>Gerçek Değer</th>\n",
       "      <th>Navie Bayes</th>\n",
       "      <th>Decision Forest</th>\n",
       "      <th>Random Forest</th>\n",
       "    </tr>\n",
       "  </thead>\n",
       "  <tbody>\n",
       "    <tr>\n",
       "      <th>0</th>\n",
       "      <td>Iris-versicolor</td>\n",
       "      <td>Iris-versicolor</td>\n",
       "      <td>Iris-versicolor</td>\n",
       "      <td>Iris-versicolor</td>\n",
       "    </tr>\n",
       "    <tr>\n",
       "      <th>1</th>\n",
       "      <td>Iris-setosa</td>\n",
       "      <td>Iris-setosa</td>\n",
       "      <td>Iris-setosa</td>\n",
       "      <td>Iris-setosa</td>\n",
       "    </tr>\n",
       "    <tr>\n",
       "      <th>2</th>\n",
       "      <td>Iris-setosa</td>\n",
       "      <td>Iris-setosa</td>\n",
       "      <td>Iris-setosa</td>\n",
       "      <td>Iris-setosa</td>\n",
       "    </tr>\n",
       "    <tr>\n",
       "      <th>3</th>\n",
       "      <td>Iris-virginica</td>\n",
       "      <td>Iris-virginica</td>\n",
       "      <td>Iris-virginica</td>\n",
       "      <td>Iris-virginica</td>\n",
       "    </tr>\n",
       "    <tr>\n",
       "      <th>4</th>\n",
       "      <td>Iris-setosa</td>\n",
       "      <td>Iris-setosa</td>\n",
       "      <td>Iris-setosa</td>\n",
       "      <td>Iris-setosa</td>\n",
       "    </tr>\n",
       "    <tr>\n",
       "      <th>5</th>\n",
       "      <td>Iris-versicolor</td>\n",
       "      <td>Iris-virginica</td>\n",
       "      <td>Iris-virginica</td>\n",
       "      <td>Iris-virginica</td>\n",
       "    </tr>\n",
       "    <tr>\n",
       "      <th>6</th>\n",
       "      <td>Iris-setosa</td>\n",
       "      <td>Iris-setosa</td>\n",
       "      <td>Iris-setosa</td>\n",
       "      <td>Iris-setosa</td>\n",
       "    </tr>\n",
       "    <tr>\n",
       "      <th>7</th>\n",
       "      <td>Iris-versicolor</td>\n",
       "      <td>Iris-versicolor</td>\n",
       "      <td>Iris-versicolor</td>\n",
       "      <td>Iris-versicolor</td>\n",
       "    </tr>\n",
       "    <tr>\n",
       "      <th>8</th>\n",
       "      <td>Iris-setosa</td>\n",
       "      <td>Iris-setosa</td>\n",
       "      <td>Iris-setosa</td>\n",
       "      <td>Iris-setosa</td>\n",
       "    </tr>\n",
       "    <tr>\n",
       "      <th>9</th>\n",
       "      <td>Iris-setosa</td>\n",
       "      <td>Iris-setosa</td>\n",
       "      <td>Iris-setosa</td>\n",
       "      <td>Iris-setosa</td>\n",
       "    </tr>\n",
       "    <tr>\n",
       "      <th>10</th>\n",
       "      <td>Iris-virginica</td>\n",
       "      <td>Iris-virginica</td>\n",
       "      <td>Iris-virginica</td>\n",
       "      <td>Iris-virginica</td>\n",
       "    </tr>\n",
       "    <tr>\n",
       "      <th>11</th>\n",
       "      <td>Iris-setosa</td>\n",
       "      <td>Iris-setosa</td>\n",
       "      <td>Iris-setosa</td>\n",
       "      <td>Iris-setosa</td>\n",
       "    </tr>\n",
       "    <tr>\n",
       "      <th>12</th>\n",
       "      <td>Iris-setosa</td>\n",
       "      <td>Iris-setosa</td>\n",
       "      <td>Iris-setosa</td>\n",
       "      <td>Iris-setosa</td>\n",
       "    </tr>\n",
       "    <tr>\n",
       "      <th>13</th>\n",
       "      <td>Iris-setosa</td>\n",
       "      <td>Iris-setosa</td>\n",
       "      <td>Iris-setosa</td>\n",
       "      <td>Iris-setosa</td>\n",
       "    </tr>\n",
       "    <tr>\n",
       "      <th>14</th>\n",
       "      <td>Iris-versicolor</td>\n",
       "      <td>Iris-versicolor</td>\n",
       "      <td>Iris-versicolor</td>\n",
       "      <td>Iris-versicolor</td>\n",
       "    </tr>\n",
       "    <tr>\n",
       "      <th>15</th>\n",
       "      <td>Iris-setosa</td>\n",
       "      <td>Iris-setosa</td>\n",
       "      <td>Iris-setosa</td>\n",
       "      <td>Iris-setosa</td>\n",
       "    </tr>\n",
       "    <tr>\n",
       "      <th>16</th>\n",
       "      <td>Iris-versicolor</td>\n",
       "      <td>Iris-versicolor</td>\n",
       "      <td>Iris-versicolor</td>\n",
       "      <td>Iris-versicolor</td>\n",
       "    </tr>\n",
       "    <tr>\n",
       "      <th>17</th>\n",
       "      <td>Iris-versicolor</td>\n",
       "      <td>Iris-versicolor</td>\n",
       "      <td>Iris-virginica</td>\n",
       "      <td>Iris-versicolor</td>\n",
       "    </tr>\n",
       "    <tr>\n",
       "      <th>18</th>\n",
       "      <td>Iris-setosa</td>\n",
       "      <td>Iris-setosa</td>\n",
       "      <td>Iris-setosa</td>\n",
       "      <td>Iris-setosa</td>\n",
       "    </tr>\n",
       "    <tr>\n",
       "      <th>19</th>\n",
       "      <td>Iris-virginica</td>\n",
       "      <td>Iris-virginica</td>\n",
       "      <td>Iris-virginica</td>\n",
       "      <td>Iris-virginica</td>\n",
       "    </tr>\n",
       "    <tr>\n",
       "      <th>20</th>\n",
       "      <td>Iris-setosa</td>\n",
       "      <td>Iris-setosa</td>\n",
       "      <td>Iris-setosa</td>\n",
       "      <td>Iris-setosa</td>\n",
       "    </tr>\n",
       "    <tr>\n",
       "      <th>21</th>\n",
       "      <td>Iris-virginica</td>\n",
       "      <td>Iris-virginica</td>\n",
       "      <td>Iris-virginica</td>\n",
       "      <td>Iris-virginica</td>\n",
       "    </tr>\n",
       "    <tr>\n",
       "      <th>22</th>\n",
       "      <td>Iris-setosa</td>\n",
       "      <td>Iris-setosa</td>\n",
       "      <td>Iris-setosa</td>\n",
       "      <td>Iris-setosa</td>\n",
       "    </tr>\n",
       "    <tr>\n",
       "      <th>23</th>\n",
       "      <td>Iris-virginica</td>\n",
       "      <td>Iris-virginica</td>\n",
       "      <td>Iris-virginica</td>\n",
       "      <td>Iris-virginica</td>\n",
       "    </tr>\n",
       "    <tr>\n",
       "      <th>24</th>\n",
       "      <td>Iris-setosa</td>\n",
       "      <td>Iris-setosa</td>\n",
       "      <td>Iris-setosa</td>\n",
       "      <td>Iris-setosa</td>\n",
       "    </tr>\n",
       "    <tr>\n",
       "      <th>25</th>\n",
       "      <td>Iris-versicolor</td>\n",
       "      <td>Iris-versicolor</td>\n",
       "      <td>Iris-versicolor</td>\n",
       "      <td>Iris-versicolor</td>\n",
       "    </tr>\n",
       "    <tr>\n",
       "      <th>26</th>\n",
       "      <td>Iris-virginica</td>\n",
       "      <td>Iris-versicolor</td>\n",
       "      <td>Iris-virginica</td>\n",
       "      <td>Iris-versicolor</td>\n",
       "    </tr>\n",
       "    <tr>\n",
       "      <th>27</th>\n",
       "      <td>Iris-versicolor</td>\n",
       "      <td>Iris-versicolor</td>\n",
       "      <td>Iris-versicolor</td>\n",
       "      <td>Iris-versicolor</td>\n",
       "    </tr>\n",
       "    <tr>\n",
       "      <th>28</th>\n",
       "      <td>Iris-versicolor</td>\n",
       "      <td>Iris-versicolor</td>\n",
       "      <td>Iris-versicolor</td>\n",
       "      <td>Iris-versicolor</td>\n",
       "    </tr>\n",
       "    <tr>\n",
       "      <th>29</th>\n",
       "      <td>Iris-versicolor</td>\n",
       "      <td>Iris-versicolor</td>\n",
       "      <td>Iris-versicolor</td>\n",
       "      <td>Iris-versicolor</td>\n",
       "    </tr>\n",
       "  </tbody>\n",
       "</table>\n",
       "</div>"
      ],
      "text/plain": [
       "       Gerçek Değer      Navie Bayes  Decision Forest    Random Forest\n",
       "0   Iris-versicolor  Iris-versicolor  Iris-versicolor  Iris-versicolor\n",
       "1       Iris-setosa      Iris-setosa      Iris-setosa      Iris-setosa\n",
       "2       Iris-setosa      Iris-setosa      Iris-setosa      Iris-setosa\n",
       "3    Iris-virginica   Iris-virginica   Iris-virginica   Iris-virginica\n",
       "4       Iris-setosa      Iris-setosa      Iris-setosa      Iris-setosa\n",
       "5   Iris-versicolor   Iris-virginica   Iris-virginica   Iris-virginica\n",
       "6       Iris-setosa      Iris-setosa      Iris-setosa      Iris-setosa\n",
       "7   Iris-versicolor  Iris-versicolor  Iris-versicolor  Iris-versicolor\n",
       "8       Iris-setosa      Iris-setosa      Iris-setosa      Iris-setosa\n",
       "9       Iris-setosa      Iris-setosa      Iris-setosa      Iris-setosa\n",
       "10   Iris-virginica   Iris-virginica   Iris-virginica   Iris-virginica\n",
       "11      Iris-setosa      Iris-setosa      Iris-setosa      Iris-setosa\n",
       "12      Iris-setosa      Iris-setosa      Iris-setosa      Iris-setosa\n",
       "13      Iris-setosa      Iris-setosa      Iris-setosa      Iris-setosa\n",
       "14  Iris-versicolor  Iris-versicolor  Iris-versicolor  Iris-versicolor\n",
       "15      Iris-setosa      Iris-setosa      Iris-setosa      Iris-setosa\n",
       "16  Iris-versicolor  Iris-versicolor  Iris-versicolor  Iris-versicolor\n",
       "17  Iris-versicolor  Iris-versicolor   Iris-virginica  Iris-versicolor\n",
       "18      Iris-setosa      Iris-setosa      Iris-setosa      Iris-setosa\n",
       "19   Iris-virginica   Iris-virginica   Iris-virginica   Iris-virginica\n",
       "20      Iris-setosa      Iris-setosa      Iris-setosa      Iris-setosa\n",
       "21   Iris-virginica   Iris-virginica   Iris-virginica   Iris-virginica\n",
       "22      Iris-setosa      Iris-setosa      Iris-setosa      Iris-setosa\n",
       "23   Iris-virginica   Iris-virginica   Iris-virginica   Iris-virginica\n",
       "24      Iris-setosa      Iris-setosa      Iris-setosa      Iris-setosa\n",
       "25  Iris-versicolor  Iris-versicolor  Iris-versicolor  Iris-versicolor\n",
       "26   Iris-virginica  Iris-versicolor   Iris-virginica  Iris-versicolor\n",
       "27  Iris-versicolor  Iris-versicolor  Iris-versicolor  Iris-versicolor\n",
       "28  Iris-versicolor  Iris-versicolor  Iris-versicolor  Iris-versicolor\n",
       "29  Iris-versicolor  Iris-versicolor  Iris-versicolor  Iris-versicolor"
      ]
     },
     "execution_count": 67,
     "metadata": {},
     "output_type": "execute_result"
    }
   ],
   "source": [
    "final"
   ]
  },
  {
   "cell_type": "code",
   "execution_count": 68,
   "id": "e806a9fe",
   "metadata": {
    "execution": {
     "iopub.execute_input": "2021-11-15T14:26:16.002080Z",
     "iopub.status.busy": "2021-11-15T14:26:16.001378Z",
     "iopub.status.idle": "2021-11-15T14:26:16.007248Z",
     "shell.execute_reply": "2021-11-15T14:26:16.006233Z",
     "shell.execute_reply.started": "2021-11-15T14:25:12.288028Z"
    },
    "papermill": {
     "duration": 0.102192,
     "end_time": "2021-11-15T14:26:16.007623",
     "exception": false,
     "start_time": "2021-11-15T14:26:15.905431",
     "status": "completed"
    },
    "tags": []
   },
   "outputs": [
    {
     "name": "stdout",
     "output_type": "stream",
     "text": [
      "Navie Bayes Tahmin Doğruluğu :  0.9333333333333333\n",
      "Decision Forest Tahmin Doğruluğu :  0.9333333333333333\n",
      "Random Forest Tahmin Doğruluğu :  0.9333333333333333\n"
     ]
    }
   ],
   "source": [
    "print (\"Navie Bayes Tahmin Doğruluğu : \", accuracy_score(y_test, y_pred))\n",
    "print (\"Decision Forest Tahmin Doğruluğu : \", accuracy_score(y_test, dt_pred))\n",
    "print (\"Random Forest Tahmin Doğruluğu : \", accuracy_score(y_test, rf_pred))"
   ]
  }
 ],
 "metadata": {
  "kernelspec": {
   "display_name": "Python 3",
   "language": "python",
   "name": "python3"
  },
  "language_info": {
   "codemirror_mode": {
    "name": "ipython",
    "version": 3
   },
   "file_extension": ".py",
   "mimetype": "text/x-python",
   "name": "python",
   "nbconvert_exporter": "python",
   "pygments_lexer": "ipython3",
   "version": "3.7.10"
  },
  "papermill": {
   "default_parameters": {},
   "duration": 34.392158,
   "end_time": "2021-11-15T14:26:17.215678",
   "environment_variables": {},
   "exception": null,
   "input_path": "__notebook__.ipynb",
   "output_path": "__notebook__.ipynb",
   "parameters": {},
   "start_time": "2021-11-15T14:25:42.823520",
   "version": "2.3.3"
  }
 },
 "nbformat": 4,
 "nbformat_minor": 5
}
